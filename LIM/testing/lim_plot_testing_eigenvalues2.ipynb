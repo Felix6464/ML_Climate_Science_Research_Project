{
 "cells": [
  {
   "cell_type": "code",
   "execution_count": 12,
   "outputs": [
    {
     "name": "stdout",
     "output_type": "stream",
     "text": [
      "The autoreload extension is already loaded. To reload it, use:\n",
      "  %reload_ext autoreload\n"
     ]
    }
   ],
   "source": [
    "import numpy as np\n",
    "import xarray as xr\n",
    "import matplotlib.pyplot as plt\n",
    "#from LIM import utils as ut\n",
    "import utils as ut\n",
    "from LIM import LIM_class\n",
    "#plt.style.use(\"./plotting.mplstyle\")\n",
    "%load_ext autoreload\n",
    "%autoreload 2"
   ],
   "metadata": {
    "collapsed": false
   }
  },
  {
   "cell_type": "code",
   "execution_count": 13,
   "outputs": [
    {
     "name": "stdout",
     "output_type": "stream",
     "text": [
      "Covariance matrix has negative values!\n",
      "0.3454143\n",
      "t_delta: 0.9407243097032918\n",
      "Negative eigenvalues detected.\n",
      "Covariance matrix has negative values!\n",
      "0.3454143\n",
      "t_delta: 0.9407243097032918\n",
      "We are in here\n"
     ]
    },
    {
     "name": "stderr",
     "output_type": "stream",
     "text": [
      "C:\\Users\\felix\\PycharmProjects\\ML_Climate_Science_Research_Project\\LIM\\LIM_class.py:260: RuntimeWarning: overflow encountered in multiply\n",
      "  np.random.multivariate_normal([0 for n in range(num_comp)], self.noise_covariance))\n",
      "C:\\Users\\felix\\PycharmProjects\\ML_Climate_Science_Research_Project\\LIM\\LIM_class.py:265: RuntimeWarning: invalid value encountered in add\n",
      "  state_start = state_new\n",
      "C:\\Users\\felix\\PycharmProjects\\ML_Climate_Science_Research_Project\\LIM\\LIM_class.py:260: RuntimeWarning: invalid value encountered in matmul\n",
      "  np.random.multivariate_normal([0 for n in range(num_comp)], self.noise_covariance))\n",
      "C:\\Users\\felix\\PycharmProjects\\ML_Climate_Science_Research_Project\\LIM\\LIM_class.py:80: RuntimeWarning: overflow encountered in matmul\n",
      "  self.C_0 = (x @ x.T) / n_time\n",
      "C:\\Users\\felix\\PycharmProjects\\ML_Climate_Science_Research_Project\\LIM\\LIM_class.py:80: RuntimeWarning: invalid value encountered in matmul\n",
      "  self.C_0 = (x @ x.T) / n_time\n",
      "C:\\Users\\felix\\PycharmProjects\\ML_Climate_Science_Research_Project\\LIM\\LIM_class.py:81: RuntimeWarning: overflow encountered in matmul\n",
      "  self.C_tau = (x_tau @ x.T) / n_time\n",
      "C:\\Users\\felix\\PycharmProjects\\ML_Climate_Science_Research_Project\\LIM\\LIM_class.py:81: RuntimeWarning: invalid value encountered in matmul\n",
      "  self.C_tau = (x_tau @ x.T) / n_time\n"
     ]
    },
    {
     "ename": "LinAlgError",
     "evalue": "Array must not contain infs or NaNs",
     "output_type": "error",
     "traceback": [
      "\u001B[1;31m---------------------------------------------------------------------------\u001B[0m",
      "\u001B[1;31mLinAlgError\u001B[0m                               Traceback (most recent call last)",
      "Cell \u001B[1;32mIn [13], line 78\u001B[0m\n\u001B[0;32m     76\u001B[0m tau \u001B[38;5;241m=\u001B[39m \u001B[38;5;241m1\u001B[39m\n\u001B[0;32m     77\u001B[0m modelyy \u001B[38;5;241m=\u001B[39m LIM_class\u001B[38;5;241m.\u001B[39mLIM(tau)\n\u001B[1;32m---> 78\u001B[0m \u001B[43mmodelyy\u001B[49m\u001B[38;5;241;43m.\u001B[39;49m\u001B[43mfit\u001B[49m\u001B[43m(\u001B[49m\u001B[43mlim_integration\u001B[49m\u001B[43m,\u001B[49m\u001B[43m \u001B[49m\u001B[43meps\u001B[49m\u001B[38;5;241;43m=\u001B[39;49m\u001B[43meps\u001B[49m\u001B[43m)\u001B[49m\n\u001B[0;32m     80\u001B[0m \u001B[38;5;66;03m# lim_integration, times_ = model_org.noise_integration(x_input, timesteps=20000, num_comp=len(pc_10), seed=9999)\u001B[39;00m\n\u001B[0;32m     81\u001B[0m \u001B[38;5;66;03m# lim_integration = lim_integration.T\u001B[39;00m\n\u001B[0;32m     82\u001B[0m \u001B[38;5;66;03m#\u001B[39;00m\n\u001B[1;32m   (...)\u001B[0m\n\u001B[0;32m     91\u001B[0m \u001B[38;5;66;03m# modelcc = LIM_class.LIM(tau)\u001B[39;00m\n\u001B[0;32m     92\u001B[0m \u001B[38;5;66;03m# modelcc.fit(lim_integration, eps=eps)\u001B[39;00m\n\u001B[0;32m     95\u001B[0m eigenvalues_org, _, w \u001B[38;5;241m=\u001B[39m ut\u001B[38;5;241m.\u001B[39mmatrix_decomposition(model_org\u001B[38;5;241m.\u001B[39mgreen_function)\n",
      "File \u001B[1;32m~\\PycharmProjects\\ML_Climate_Science_Research_Project\\LIM\\LIM_class.py:93\u001B[0m, in \u001B[0;36mLIM.fit\u001B[1;34m(self, data, eps)\u001B[0m\n\u001B[0;32m     89\u001B[0m \u001B[38;5;28mself\u001B[39m\u001B[38;5;241m.\u001B[39mgreen_function \u001B[38;5;241m=\u001B[39m \u001B[38;5;28mself\u001B[39m\u001B[38;5;241m.\u001B[39mC_tau \u001B[38;5;241m@\u001B[39m np\u001B[38;5;241m.\u001B[39mlinalg\u001B[38;5;241m.\u001B[39minv(\u001B[38;5;28mself\u001B[39m\u001B[38;5;241m.\u001B[39mC_0)\n\u001B[0;32m     90\u001B[0m \u001B[38;5;66;03m#print(\"Min of G:\", np.min(self.green_function))\u001B[39;00m\n\u001B[0;32m     91\u001B[0m \n\u001B[0;32m     92\u001B[0m \u001B[38;5;66;03m# Compute Logarithmic Matrix = ln(green_function)/tau\u001B[39;00m\n\u001B[1;32m---> 93\u001B[0m eigenvalues, eigenvectors, _ \u001B[38;5;241m=\u001B[39m \u001B[43mut\u001B[49m\u001B[38;5;241;43m.\u001B[39;49m\u001B[43mmatrix_decomposition\u001B[49m\u001B[43m(\u001B[49m\u001B[38;5;28;43mself\u001B[39;49m\u001B[38;5;241;43m.\u001B[39;49m\u001B[43mgreen_function\u001B[49m\u001B[43m)\u001B[49m\n\u001B[0;32m     94\u001B[0m \u001B[38;5;28mself\u001B[39m\u001B[38;5;241m.\u001B[39mg_eigenvalues \u001B[38;5;241m=\u001B[39m eigenvalues\n\u001B[0;32m     95\u001B[0m \u001B[38;5;66;03m#print(\"Min eigenvalue of G:\", np.min(self.g_eigenvalues))\u001B[39;00m\n",
      "File \u001B[1;32m~\\PycharmProjects\\ML_Climate_Science_Research_Project\\LIM\\utils.py:200\u001B[0m, in \u001B[0;36mmatrix_decomposition\u001B[1;34m(A)\u001B[0m\n\u001B[0;32m    189\u001B[0m \u001B[38;5;28;01mdef\u001B[39;00m \u001B[38;5;21mmatrix_decomposition\u001B[39m(A):\n\u001B[0;32m    190\u001B[0m     \u001B[38;5;124;03m\"\"\"Decompose square matrix:\u001B[39;00m\n\u001B[0;32m    191\u001B[0m \n\u001B[0;32m    192\u001B[0m \u001B[38;5;124;03m        A = U D V.T\u001B[39;00m\n\u001B[1;32m   (...)\u001B[0m\n\u001B[0;32m    198\u001B[0m \u001B[38;5;124;03m        V (np.ndarray): Matrix of sorted eigenvectors of A.T\u001B[39;00m\n\u001B[0;32m    199\u001B[0m \u001B[38;5;124;03m    \"\"\"\u001B[39;00m\n\u001B[1;32m--> 200\u001B[0m     w, U \u001B[38;5;241m=\u001B[39m \u001B[43mnp\u001B[49m\u001B[38;5;241;43m.\u001B[39;49m\u001B[43mlinalg\u001B[49m\u001B[38;5;241;43m.\u001B[39;49m\u001B[43meig\u001B[49m\u001B[43m(\u001B[49m\u001B[43mA\u001B[49m\u001B[43m)\u001B[49m\n\u001B[0;32m    201\u001B[0m     idx_sort \u001B[38;5;241m=\u001B[39m np\u001B[38;5;241m.\u001B[39margsort(w)[::\u001B[38;5;241m-\u001B[39m\u001B[38;5;241m1\u001B[39m]\n\u001B[0;32m    202\u001B[0m     w \u001B[38;5;241m=\u001B[39m w[idx_sort]\n",
      "File \u001B[1;32m<__array_function__ internals>:180\u001B[0m, in \u001B[0;36meig\u001B[1;34m(*args, **kwargs)\u001B[0m\n",
      "File \u001B[1;32m~\\AppData\\Local\\Programs\\Python\\Python310\\lib\\site-packages\\numpy\\linalg\\linalg.py:1312\u001B[0m, in \u001B[0;36meig\u001B[1;34m(a)\u001B[0m\n\u001B[0;32m   1310\u001B[0m _assert_stacked_2d(a)\n\u001B[0;32m   1311\u001B[0m _assert_stacked_square(a)\n\u001B[1;32m-> 1312\u001B[0m \u001B[43m_assert_finite\u001B[49m\u001B[43m(\u001B[49m\u001B[43ma\u001B[49m\u001B[43m)\u001B[49m\n\u001B[0;32m   1313\u001B[0m t, result_t \u001B[38;5;241m=\u001B[39m _commonType(a)\n\u001B[0;32m   1315\u001B[0m extobj \u001B[38;5;241m=\u001B[39m get_linalg_error_extobj(\n\u001B[0;32m   1316\u001B[0m     _raise_linalgerror_eigenvalues_nonconvergence)\n",
      "File \u001B[1;32m~\\AppData\\Local\\Programs\\Python\\Python310\\lib\\site-packages\\numpy\\linalg\\linalg.py:209\u001B[0m, in \u001B[0;36m_assert_finite\u001B[1;34m(*arrays)\u001B[0m\n\u001B[0;32m    207\u001B[0m \u001B[38;5;28;01mfor\u001B[39;00m a \u001B[38;5;129;01min\u001B[39;00m arrays:\n\u001B[0;32m    208\u001B[0m     \u001B[38;5;28;01mif\u001B[39;00m \u001B[38;5;129;01mnot\u001B[39;00m isfinite(a)\u001B[38;5;241m.\u001B[39mall():\n\u001B[1;32m--> 209\u001B[0m         \u001B[38;5;28;01mraise\u001B[39;00m LinAlgError(\u001B[38;5;124m\"\u001B[39m\u001B[38;5;124mArray must not contain infs or NaNs\u001B[39m\u001B[38;5;124m\"\u001B[39m)\n",
      "\u001B[1;31mLinAlgError\u001B[0m: Array must not contain infs or NaNs"
     ]
    }
   ],
   "source": [
    "data = xr.open_dataset(\"C:/Users/felix/PycharmProjects/ML_Climate_Science_Research_Project/LIM/data/ts_Amon_CESM2_piControl_r1i1p1f1.nc\")[\"ts\"]\n",
    "#data = xr.open_dataset(\"./data/zos_Amon_CESM2_piControl_r1i1p1f1.nc\")[\"zos\"]\n",
    "#data_old = xr.open_dataset(\"./data/ssta_1950_2021.nc\")[\"ssta\"]\n",
    "mask = xr.open_dataset(\"C:/Users/felix/PycharmProjects/ML_Climate_Science_Research_Project/LIM/data/sftlf_fx_CESM2_historical_r1i1p1f1.nc\")[\"sftlf\"]\n",
    "\n",
    "#14400 orginial size\n",
    "data = data[:10000, :, :]\n",
    "\n",
    "data = ut.apply_mask(mask, data)\n",
    "#print(\"Data : {} + shape {}\".format(data, data.shape))\n",
    "\n",
    "data_anomalies = ut.calculate_monthly_anomalies(data)\n",
    "#print(\"Month mean : {} + shape : {}\".format(data_anomalies, data_anomalies.shape))\n",
    "\n",
    "data_cropped =ut.crop_xarray(data_anomalies)\n",
    "#print(\"Data cropped : {} + shape : {}\".format(data_cropped, data_cropped.shape))\n",
    "\n",
    "\n",
    "pca_10 = ut.SpatioTemporalPCA(data_cropped, n_components=20)\n",
    "#pca_10 = ut.SpatioTemporalPCA(data_anomalies, n_components=20)\n",
    "eof_10 = pca_10.eofs()\n",
    "pc_10 = pca_10.principal_components()\n",
    "\n",
    "# Create training and test data\n",
    "\n",
    "data = pca_10.principal_components()\n",
    "index_train = int(0.8 * len(data[\"time\"]))\n",
    "data_train = data[:, :index_train]\n",
    "data_test = data[:, index_train:]\n",
    "\n",
    "eps = 0.01\n",
    "\n",
    "# Get input data\n",
    "x_input = data_train.isel(time=0)\n",
    "x_input = x_input.data\n",
    "\n",
    "# original fit\n",
    "tau = 1\n",
    "model_org = LIM_class.LIM(tau)\n",
    "model_org.fit(data_train.data, eps=eps)\n",
    "\n",
    "eigenvalues_lst = []\n",
    "\n",
    "\n",
    "# for t in range(1):\n",
    "#\n",
    "#     print(\"Iteration : {}\".format(t))\n",
    "#\n",
    "#         # Forecast mean using LIM model\n",
    "#     lim_integration, times_ = model_org.noise_integration(x_input, timesteps=20000, num_comp=len(pc_10), seed=t)\n",
    "#     lim_integration = lim_integration.T\n",
    "#\n",
    "#     tau = 1\n",
    "#     model = LIM_class.LIM(tau)\n",
    "#     model.fit(lim_integration, eps=eps)\n",
    "#\n",
    "#     logar_matr = model.logarithmic_matrix\n",
    "#     noise_matr = model.noise_covariance\n",
    "#\n",
    "#     # Plotting eigenvalues of G\n",
    "#     eigenvalues, _, w = ut.matrix_decomposition(model.green_function)\n",
    "#     eigenvalues_lst.append(eigenvalues)\n",
    "\n",
    "\n",
    "\n",
    "lim_integration, times_ = model_org.noise_integration(x_input, timesteps=20000, num_comp=len(pc_10), seed=99)\n",
    "lim_integration = lim_integration.T\n",
    "\n",
    "tau = 1\n",
    "modelxx = LIM_class.LIM(tau)\n",
    "modelxx.fit(lim_integration, eps=eps)\n",
    "\n",
    "lim_integration, times_ = model_org.noise_integration(x_input, timesteps=20000, num_comp=len(pc_10), seed=9999)\n",
    "lim_integration = lim_integration.T\n",
    "\n",
    "tau = 1\n",
    "modelyy = LIM_class.LIM(tau)\n",
    "modelyy.fit(lim_integration, eps=eps)\n",
    "\n",
    "# lim_integration, times_ = model_org.noise_integration(x_input, timesteps=20000, num_comp=len(pc_10), seed=9999)\n",
    "# lim_integration = lim_integration.T\n",
    "#\n",
    "# tau = 1\n",
    "# modelzz = LIM_class.LIM(tau)\n",
    "# modelzz.fit(lim_integration, eps=eps)\n",
    "#\n",
    "# lim_integration, times_ = model_org.noise_integration(x_input, timesteps=20000, num_comp=len(pc_10), seed=99999)\n",
    "# lim_integration = lim_integration.T\n",
    "#\n",
    "# tau = 1\n",
    "# modelcc = LIM_class.LIM(tau)\n",
    "# modelcc.fit(lim_integration, eps=eps)\n",
    "\n",
    "\n",
    "eigenvalues_org, _, w = ut.matrix_decomposition(model_org.green_function)\n",
    "eigenvalues_xx, _, w = ut.matrix_decomposition(modelxx.green_function)\n",
    "eigenvalues_yy, _, w = ut.matrix_decomposition(modelyy.green_function)\n",
    "#eigenvalues_zz, _, w = ut.matrix_decomposition(modelzz.green_function)\n",
    "#eigenvalues_cc, _, w = ut.matrix_decomposition(modelcc.green_function)\n",
    "\n"
   ],
   "metadata": {
    "collapsed": false
   }
  },
  {
   "cell_type": "code",
   "execution_count": null,
   "outputs": [],
   "source": [
    "x = np.arange(1, len(eigenvalues_org) + 1)\n",
    "\n",
    "# Plot the eigenvalues\n",
    "plt.figure(figsize=(15,10))\n",
    "plt.plot(x, eigenvalues_org, marker='o', linestyle='-', color='r', markersize=4.5, markerfacecolor='r', linewidth=3,\n",
    "         label='G_tau')\n",
    "plt.plot(x, eigenvalues_xx, marker='o', linestyle='-', color='g', markersize=4, markerfacecolor='r', linewidth=1,\n",
    "         label='G_new_2step')\n",
    "plt.plot(x, eigenvalues_yy, marker='o', linestyle='-', color='orange', markersize=4, markerfacecolor='r', linewidth=1,\n",
    "          label='G_new_1step')\n",
    "# plt.plot(x, eigenvalues_zz, marker='o', linestyle='-', color='black', markersize=4, markerfacecolor='r', linewidth=1,\n",
    "#          label='G_new_0.3delta')\n",
    "# plt.plot(x, eigenvalues_cc, marker='o', linestyle='-', color='b', markersize=4, markerfacecolor='r', linewidth=1,\n",
    "#          label='G_new_0.4delta')\n",
    "# plt.plot(x, eigenvalues_lst[0], marker='o', linestyle='-', color='y', markersize=4, markerfacecolor='r', linewidth=1, label='G_new_0.5delta')\n",
    "\n",
    "#for y in range(len(eigenvalues_lst)):\n",
    "#    plt.plot(x, eigenvalues_lst[y], marker='o', linestyle='-', color='y', markersize=4, markerfacecolor='r', linewidth=2.5)\n",
    "#    if y +1 == len(eigenvalues_lst):\n",
    "#        plt.plot(x, eigenvalues_lst[y], marker='o', linestyle='-', color='y', markersize=4, markerfacecolor='r', linewidth=2.5, #label='G_new_tau1')\n",
    "\n",
    "\n",
    "\n",
    "\n",
    "\n",
    "# Set the labels and title\n",
    "plt.xlabel('Index', fontsize=20, labelpad=20)\n",
    "plt.ylabel('Eigenvalue', fontsize=20, labelpad=20)\n",
    "plt.title('Eigenvalues of G / G_new for different t_delta', fontsize=20)\n",
    "\n",
    "# Set the x-axis tick labels\n",
    "plt.xticks(x, fontsize=20)\n",
    "plt.yticks(range(0,1), fontsize=20)\n",
    "plt.legend(loc=\"lower left\", fontsize=12)\n",
    "\n",
    "# Display the plot\n",
    "plt.savefig('./plots/svg/eigenvalues_G_combined_piControl_step.svg', format='svg')\n",
    "plt.savefig('./plots/png/eigenvalues_G_combined_piControl_step.png', format='png')\n",
    "plt.show()"
   ],
   "metadata": {
    "collapsed": false
   }
  },
  {
   "cell_type": "code",
   "execution_count": null,
   "outputs": [],
   "source": [],
   "metadata": {
    "collapsed": false
   }
  }
 ],
 "metadata": {
  "kernelspec": {
   "display_name": "Python 3",
   "language": "python",
   "name": "python3"
  },
  "language_info": {
   "codemirror_mode": {
    "name": "ipython",
    "version": 2
   },
   "file_extension": ".py",
   "mimetype": "text/x-python",
   "name": "python",
   "nbconvert_exporter": "python",
   "pygments_lexer": "ipython2",
   "version": "2.7.6"
  }
 },
 "nbformat": 4,
 "nbformat_minor": 0
}
