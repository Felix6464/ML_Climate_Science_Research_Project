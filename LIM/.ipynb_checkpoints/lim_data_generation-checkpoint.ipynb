{
 "cells": [
  {
   "cell_type": "code",
   "execution_count": 1,
   "metadata": {
    "collapsed": true,
    "pycharm": {
     "name": "#%%\n"
    }
   },
   "outputs": [],
   "source": [
    "import numpy as np\n",
    "import xarray as xr\n",
    "import matplotlib.pyplot as plt\n",
    "import utils as ut\n",
    "import LIM_class\n",
    "plt.style.use(\"../plotting.mplstyle\")\n",
    "%load_ext autoreload\n",
    "%autoreload 2"
   ]
  },
  {
   "cell_type": "code",
   "execution_count": 2,
   "metadata": {
    "pycharm": {
     "name": "#%%\n"
    }
   },
   "outputs": [
    {
     "ename": "ValueError",
     "evalue": "found the following matches with the input file in xarray's IO backends: ['netcdf4', 'h5netcdf']. But their dependencies may not be installed, see:\nhttps://docs.xarray.dev/en/stable/user-guide/io.html \nhttps://docs.xarray.dev/en/stable/getting-started-guide/installing.html",
     "output_type": "error",
     "traceback": [
      "\u001b[1;31m---------------------------------------------------------------------------\u001b[0m",
      "\u001b[1;31mValueError\u001b[0m                                Traceback (most recent call last)",
      "Cell \u001b[1;32mIn[2], line 1\u001b[0m\n\u001b[1;32m----> 1\u001b[0m data \u001b[38;5;241m=\u001b[39m \u001b[43mxr\u001b[49m\u001b[38;5;241;43m.\u001b[39;49m\u001b[43mopen_dataset\u001b[49m\u001b[43m(\u001b[49m\u001b[38;5;124;43m\"\u001b[39;49m\u001b[38;5;124;43m./data/ssta_1950_2021.nc\u001b[39;49m\u001b[38;5;124;43m\"\u001b[39;49m\u001b[43m)\u001b[49m[\u001b[38;5;124m'\u001b[39m\u001b[38;5;124mssta\u001b[39m\u001b[38;5;124m'\u001b[39m]\n\u001b[0;32m      3\u001b[0m \u001b[38;5;28mprint\u001b[39m(\u001b[38;5;124m\"\u001b[39m\u001b[38;5;124mData shape: \u001b[39m\u001b[38;5;132;01m{}\u001b[39;00m\u001b[38;5;124m\"\u001b[39m\u001b[38;5;241m.\u001b[39mformat(data\u001b[38;5;241m.\u001b[39mshape))\n\u001b[0;32m      4\u001b[0m \u001b[38;5;28mprint\u001b[39m(\u001b[38;5;124m\"\u001b[39m\u001b[38;5;124mData : \u001b[39m\u001b[38;5;132;01m{}\u001b[39;00m\u001b[38;5;124m\"\u001b[39m\u001b[38;5;241m.\u001b[39mformat(data))\n",
      "File \u001b[1;32mC:\\Program Files\\Python39\\lib\\site-packages\\xarray\\backends\\api.py:509\u001b[0m, in \u001b[0;36mopen_dataset\u001b[1;34m(filename_or_obj, engine, chunks, cache, decode_cf, mask_and_scale, decode_times, decode_timedelta, use_cftime, concat_characters, decode_coords, drop_variables, inline_array, backend_kwargs, **kwargs)\u001b[0m\n\u001b[0;32m    506\u001b[0m     kwargs\u001b[38;5;241m.\u001b[39mupdate(backend_kwargs)\n\u001b[0;32m    508\u001b[0m \u001b[38;5;28;01mif\u001b[39;00m engine \u001b[38;5;129;01mis\u001b[39;00m \u001b[38;5;28;01mNone\u001b[39;00m:\n\u001b[1;32m--> 509\u001b[0m     engine \u001b[38;5;241m=\u001b[39m \u001b[43mplugins\u001b[49m\u001b[38;5;241;43m.\u001b[39;49m\u001b[43mguess_engine\u001b[49m\u001b[43m(\u001b[49m\u001b[43mfilename_or_obj\u001b[49m\u001b[43m)\u001b[49m\n\u001b[0;32m    511\u001b[0m backend \u001b[38;5;241m=\u001b[39m plugins\u001b[38;5;241m.\u001b[39mget_backend(engine)\n\u001b[0;32m    513\u001b[0m decoders \u001b[38;5;241m=\u001b[39m _resolve_decoders_kwargs(\n\u001b[0;32m    514\u001b[0m     decode_cf,\n\u001b[0;32m    515\u001b[0m     open_backend_dataset_parameters\u001b[38;5;241m=\u001b[39mbackend\u001b[38;5;241m.\u001b[39mopen_dataset_parameters,\n\u001b[1;32m   (...)\u001b[0m\n\u001b[0;32m    521\u001b[0m     decode_coords\u001b[38;5;241m=\u001b[39mdecode_coords,\n\u001b[0;32m    522\u001b[0m )\n",
      "File \u001b[1;32mC:\\Program Files\\Python39\\lib\\site-packages\\xarray\\backends\\plugins.py:197\u001b[0m, in \u001b[0;36mguess_engine\u001b[1;34m(store_spec)\u001b[0m\n\u001b[0;32m    189\u001b[0m \u001b[38;5;28;01melse\u001b[39;00m:\n\u001b[0;32m    190\u001b[0m     error_msg \u001b[38;5;241m=\u001b[39m (\n\u001b[0;32m    191\u001b[0m         \u001b[38;5;124m\"\u001b[39m\u001b[38;5;124mfound the following matches with the input file in xarray\u001b[39m\u001b[38;5;124m'\u001b[39m\u001b[38;5;124ms IO \u001b[39m\u001b[38;5;124m\"\u001b[39m\n\u001b[0;32m    192\u001b[0m         \u001b[38;5;124mf\u001b[39m\u001b[38;5;124m\"\u001b[39m\u001b[38;5;124mbackends: \u001b[39m\u001b[38;5;132;01m{\u001b[39;00mcompatible_engines\u001b[38;5;132;01m}\u001b[39;00m\u001b[38;5;124m. But their dependencies may not be installed, see:\u001b[39m\u001b[38;5;130;01m\\n\u001b[39;00m\u001b[38;5;124m\"\u001b[39m\n\u001b[0;32m    193\u001b[0m         \u001b[38;5;124m\"\u001b[39m\u001b[38;5;124mhttps://docs.xarray.dev/en/stable/user-guide/io.html \u001b[39m\u001b[38;5;130;01m\\n\u001b[39;00m\u001b[38;5;124m\"\u001b[39m\n\u001b[0;32m    194\u001b[0m         \u001b[38;5;124m\"\u001b[39m\u001b[38;5;124mhttps://docs.xarray.dev/en/stable/getting-started-guide/installing.html\u001b[39m\u001b[38;5;124m\"\u001b[39m\n\u001b[0;32m    195\u001b[0m     )\n\u001b[1;32m--> 197\u001b[0m \u001b[38;5;28;01mraise\u001b[39;00m \u001b[38;5;167;01mValueError\u001b[39;00m(error_msg)\n",
      "\u001b[1;31mValueError\u001b[0m: found the following matches with the input file in xarray's IO backends: ['netcdf4', 'h5netcdf']. But their dependencies may not be installed, see:\nhttps://docs.xarray.dev/en/stable/user-guide/io.html \nhttps://docs.xarray.dev/en/stable/getting-started-guide/installing.html"
     ]
    }
   ],
   "source": [
    "data = xr.open_dataset(\"./data/ssta_1950_2021.nc\")['ssta']\n",
    "\n",
    "print(\"Data shape: {}\".format(data.shape))\n",
    "print(\"Data : {}\".format(data))"
   ]
  },
  {
   "cell_type": "code",
   "execution_count": null,
   "metadata": {
    "pycharm": {
     "name": "#%%\n"
    }
   },
   "outputs": [],
   "source": [
    "# Use Principal Component Analysis to reduce the dimensionality of the data\n",
    "\n",
    "pca_5 = ut.SpatioTemporalPCA(data, n_components=5)\n",
    "pca_10 = ut.SpatioTemporalPCA(data, n_components=10)\n",
    "pca_15 = ut.SpatioTemporalPCA(data, n_components=15)\n",
    "\n",
    "print(\"Explained variance ratio for 5 components: {}\".format(np.sum(pca_5.explained_variance())))\n",
    "print(\"Explained variance ratio for 10 components: {}\".format(np.sum(pca_10.explained_variance())))\n",
    "print(\"Explained variance ratio for 15 components: {}\".format(np.sum(pca_15.explained_variance())))\n",
    "\n",
    "eof_5 = pca_5.eofs()\n",
    "eof_10 = pca_10.eofs()\n",
    "eof_15 = pca_15.eofs()\n",
    "\n",
    "print(\"EOFs shape for 5 components: (eof, lat, lon) {}\".format(eof_5.shape))\n",
    "print(\"EOFs shape for 10 components: (eof, lat, lon) {}\".format(eof_10.shape))\n",
    "print(\"EOFs shape for 15 components: (eof, lat, lon) {}\".format(eof_15.shape))\n",
    "\n",
    "pc_5 = pca_5.principal_components()\n",
    "pc_10 = pca_10.principal_components()\n",
    "pc_15 = pca_15.principal_components()\n",
    "\n",
    "print(\"PCs shape for 5 components: (eof, time) {}\".format(pc_5.shape))\n",
    "print(\"PCs data for 5 components: {}\".format(pc_5))\n",
    "print(\"PCs shape for 10 components: (eof, time) {}\".format(pc_10.shape))\n",
    "print(\"PCs shape for 15 components: (eof, time) {}\".format(pc_15.shape))\n"
   ]
  },
  {
   "cell_type": "code",
   "execution_count": null,
   "metadata": {
    "pycharm": {
     "name": "#%%\n"
    }
   },
   "outputs": [],
   "source": [
    "# Set the number of plots to 2\n",
    "number_of_plots = 2\n",
    "\n",
    "# Create the figure and axes objects\n",
    "fig, axs = plt.subplots(number_of_plots, 2, figsize=(12, 10))\n",
    "\n",
    "# Set titles and plot the contourf and plot for each EOF and PC\n",
    "for i in range(number_of_plots):\n",
    "    axs[i,0].set_title(\"EOF {}\".format(i + 1), fontsize=16)\n",
    "    axs[i,0].contourf(eof_10[i], cmap=\"RdBu_r\")\n",
    "    axs[i,1].set_title(\"PC {}\".format(i + 1), fontsize=16)\n",
    "    # Define time variable\n",
    "    time = np.arange(len(pc_10[i]))\n",
    "    # Convert time to years\n",
    "    time_years = time/12 + 1950\n",
    "    # Plot PC with time on x-axis in years\n",
    "    axs[i,1].plot(time_years, pc_10[i])\n",
    "    axs[i,1].set_xlabel(\"Time (years)\", fontsize=14)\n",
    "\n",
    "# Add padding between subplots and adjust layout\n",
    "fig.tight_layout(pad=2)"
   ]
  },
  {
   "cell_type": "code",
   "execution_count": null,
   "metadata": {
    "pycharm": {
     "name": "#%%\n"
    }
   },
   "outputs": [],
   "source": [
    "# Create training and test data\n",
    "\n",
    "data = pca_10.principal_components()\n",
    "index_train = int(0.8 * len(data[\"time\"]))\n",
    "data_train = data[:, :index_train]\n",
    "data_test = data[:, index_train:]"
   ]
  },
  {
   "cell_type": "code",
   "execution_count": null,
   "metadata": {
    "pycharm": {
     "name": "#%%\n"
    }
   },
   "outputs": [],
   "source": [
    "# Creating an example LIM object\n",
    "\n",
    "tau = 1\n",
    "model = LIM_class.LIM(tau)\n",
    "model.fit(data_train.data)\n",
    "print(\"Data train : {} + shape: {}\".format(data_train.data, data_train.data.shape))"
   ]
  },
  {
   "cell_type": "code",
   "execution_count": null,
   "metadata": {
    "pycharm": {
     "name": "#%%\n"
    }
   },
   "outputs": [],
   "source": [
    "# Plot G, L, Q\n",
    "fig, axs = plt.subplots(1, 3, figsize=(12, 3.5))\n",
    "\n",
    "# Plot G\n",
    "im1 = axs[0].imshow(model.green_function, cmap='coolwarm')\n",
    "axs[0].set_title('Green\\'s Function (G)')\n",
    "fig.colorbar(im1, ax=axs[0])\n",
    "\n",
    "# Plot L\n",
    "im2 = axs[1].imshow(np.real(model.logarithmic_matrix), cmap='coolwarm')\n",
    "axs[1].set_title('Logarithmic Time Derivative (L)')\n",
    "fig.colorbar(im2, ax=axs[1])\n",
    "\n",
    "# Plot Q\n",
    "im3 = axs[2].imshow(np.real(model.noise_covariance), cmap='coolwarm')\n",
    "axs[2].set_title('Noise Covariance (Q)')\n",
    "fig.colorbar(im3, ax=axs[2])\n",
    "\n",
    "plt.tight_layout()\n",
    "plt.show()"
   ]
  },
  {
   "cell_type": "code",
   "execution_count": null,
   "metadata": {
    "pycharm": {
     "name": "#%%\n"
    }
   },
   "outputs": [],
   "source": [
    "# Model geometric brownian motion\n",
    "\n",
    "#model.geometric_brownian_motion(mu=2)"
   ]
  },
  {
   "cell_type": "code",
   "execution_count": null,
   "metadata": {
    "pycharm": {
     "name": "#%%\n"
    }
   },
   "outputs": [],
   "source": [
    "# Simulate stochastic differential equation\n",
    "\n",
    "#x_input = data_test.isel(time=0)\n",
    "x_input = data_test.isel(time=np.arange(0,10))\n",
    "times = x_input['time']\n",
    "x = x_input.data\n",
    "\n",
    "#forecast_output, forecast_output2 = model.forecast(x, [1,2,3])\n",
    "output_array, state_mid = model.noise_integration(x, timesteps=2000)\n",
    "\n",
    "forecast_mean = 0\n",
    "for ensemble in output_array[:-1]:\n",
    "    forecast_mean += ensemble\n",
    "\n",
    "forecast_mean = forecast_mean / len(output_array[:-1])\n",
    "print(\"Output-Array : {} + shape : {}\".format(output_array, output_array.shape))\n",
    "#print(\"Forecast mean : {}\".format(forecast_mean))\n"
   ]
  },
  {
   "cell_type": "code",
   "execution_count": null,
   "metadata": {
    "pycharm": {
     "name": "#%%\n"
    }
   },
   "outputs": [],
   "source": [
    "# Transform back to data space (denoted with y) and plot the time evolution of selected components\n",
    "\n",
    "lag = 3\n",
    "\n",
    "#x_input = data_test.isel(time=np.arange(0,50))\n",
    "#x = x_input.data\n",
    "#TODO plot hinbekommen\n",
    "\n",
    "# Reconstruct the input and forecasted data\n",
    "reconstructed_input = pca_10.reconstruction(x[:, lag:], newdim=times[lag:])\n",
    "reconstructed_forecast = pca_10.reconstruction(output_array[1550, :, :-lag], newdim=times[lag:])\n",
    "\n",
    "print(f\"Reconstructed input data shape: {reconstructed_input.shape}\")\n",
    "print(f\"Reconstructed forecast data shape: {reconstructed_forecast.shape}\")\n",
    "\n",
    "# Choose a time index to plot\n",
    "time_index = 5\n",
    "time_index2 = 200\n",
    "\n",
    "# Define plot parameters\n",
    "plot_params = {'tsa': dict(vmin=-2, vmax=2, eps=0.25),\n",
    "               'zosa': dict(vmin=-0.1, vmax=.1, eps=0.025)}\n",
    "\n",
    "# Plot the input and forecasted data at the chosen time index\n",
    "fig, axs = plt.subplots(1,2, figsize=(10, 3))\n",
    "reconstructed_input.isel(time=time_index).plot(ax=axs[0])\n",
    "axs[0].set_title(\"Target\")\n",
    "reconstructed_forecast.isel(time=time_index).plot(ax=axs[1])\n",
    "axs[1].set_title(\"Forecast\")"
   ]
  },
  {
   "cell_type": "code",
   "execution_count": null,
   "metadata": {
    "pycharm": {
     "name": "#%%\n"
    }
   },
   "outputs": [],
   "source": [
    "#x_input = data_test.isel(time=0)\n",
    "x_input = data_test.isel(time=np.arange(0,10))\n",
    "times = x_input['time']\n",
    "x = x_input.data\n",
    "\n",
    "forecast_output, forecast_output2 = model.forecast(x, [1,2,3])\n",
    "\n",
    "print(\"Forecast output : {} + shape: {}\".format(forecast_output, forecast_output.shape))\n",
    "print(\"Forecast2 output : {} + shape: {}\".format(forecast_output2, forecast_output2.shape))\n"
   ]
  },
  {
   "cell_type": "code",
   "execution_count": null,
   "metadata": {
    "pycharm": {
     "name": "#%%\n"
    }
   },
   "outputs": [],
   "source": [
    "#x_input = data_test.isel(time=0)\n",
    "x_input = data_test.isel(time=np.arange(0,10))\n",
    "times = x_input['time']\n",
    "x = x_input.data\n",
    "\n",
    "forecast_output = model.forecast_mean(x)\n",
    "\n",
    "print(\"Forecast output : {} + shape: {}\".format(forecast_output, forecast_output.shape))"
   ]
  },
  {
   "cell_type": "code",
   "execution_count": null,
   "metadata": {
    "pycharm": {
     "name": "#%%\n"
    }
   },
   "outputs": [],
   "source": [
    "# Forecasting\n",
    "\n",
    "# Define lag\n",
    "lag = 3\n",
    "\n",
    "# Get input data\n",
    "x_input = data_test.isel(time=np.arange(0, 50))\n",
    "times = x_input['time']\n",
    "x = x_input.data\n",
    "\n",
    "# Forecast mean using LIM model\n",
    "x_frcst = model.forecast_mean(x, lag=lag)\n",
    "\n",
    "# Plot time evolution of selected components\n",
    "idx_components = [0, 1, 2]\n",
    "fig, axs = plt.subplots(len(idx_components), figsize=(12, len(idx_components)*1.5), sharex=True)\n",
    "\n",
    "for i, component in enumerate(idx_components):\n",
    "    # Plot target data for the component\n",
    "    axs[i].plot(times[lag:], x[component, lag:], label='Target')\n",
    "\n",
    "    # Plot forecasted data using LIM model\n",
    "    axs[i].plot(times[lag:], x_frcst[component, :-lag], label=f'LIM (tau={lag})')\n",
    "\n",
    "    # Set y-axis label\n",
    "    axs[i].set_ylabel(f'PC {component+1}')\n",
    "\n",
    "# Add legend\n",
    "_ = axs[0].legend(bbox_to_anchor=(1, 1), loc=\"upper left\")\n",
    "\n",
    "# Set x-axis label for the last subplot\n",
    "axs[-1].set_xlabel('Time')"
   ]
  },
  {
   "cell_type": "code",
   "execution_count": null,
   "metadata": {
    "pycharm": {
     "name": "#%%\n"
    }
   },
   "outputs": [],
   "source": [
    "# Transform back to data space (denoted with y) and plot the time evolution of selected components\n",
    "\n",
    "# Reconstruct the input and forecasted data\n",
    "reconstructed_input = pca_10.reconstruction(x[:, lag:], newdim=times[lag:])\n",
    "reconstructed_forecast = pca_10.reconstruction(x_frcst[:, :-lag], newdim=times[lag:])\n",
    "\n",
    "print(f\"Reconstructed input data shape: {reconstructed_input.shape}\")\n",
    "print(f\"Reconstructed forecast data shape: {reconstructed_forecast.shape}\")\n",
    "\n",
    "# Choose a time index to plot\n",
    "time_index = 5\n",
    "\n",
    "# Define plot parameters\n",
    "plot_params = {'tsa': dict(vmin=-2, vmax=2, eps=0.25),\n",
    "               'zosa': dict(vmin=-0.1, vmax=.1, eps=0.025)}\n",
    "\n",
    "# Plot the input and forecasted data at the chosen time index\n",
    "fig, axs = plt.subplots(1,2, figsize=(10, 3))\n",
    "reconstructed_input.isel(time=time_index).plot(ax=axs[0])\n",
    "axs[0].set_title(\"Target\")\n",
    "reconstructed_forecast.isel(time=time_index).plot(ax=axs[1])\n",
    "axs[1].set_title(\"Forecast\")"
   ]
  },
  {
   "cell_type": "code",
   "execution_count": null,
   "metadata": {
    "pycharm": {
     "name": "#%%\n"
    }
   },
   "outputs": [],
   "source": []
  }
 ],
 "metadata": {
  "kernelspec": {
   "display_name": "Python 3 (ipykernel)",
   "language": "python",
   "name": "python3"
  },
  "language_info": {
   "codemirror_mode": {
    "name": "ipython",
    "version": 3
   },
   "file_extension": ".py",
   "mimetype": "text/x-python",
   "name": "python",
   "nbconvert_exporter": "python",
   "pygments_lexer": "ipython3",
   "version": "3.9.9"
  }
 },
 "nbformat": 4,
 "nbformat_minor": 1
}
