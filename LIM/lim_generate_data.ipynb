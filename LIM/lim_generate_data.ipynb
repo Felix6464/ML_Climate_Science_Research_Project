{
 "cells": [
  {
   "cell_type": "code",
   "execution_count": 57,
   "metadata": {
    "collapsed": true
   },
   "outputs": [
    {
     "name": "stdout",
     "output_type": "stream",
     "text": [
      "The autoreload extension is already loaded. To reload it, use:\n",
      "  %reload_ext autoreload\n",
      "Data shape : torch.Size([30, 14400])\n"
     ]
    }
   ],
   "source": [
    "import numpy as np\n",
    "import torch\n",
    "from LIM.neural_networks.models import LIM_class\n",
    "from neural_networks.utilities import *\n",
    "import cftime\n",
    "\n",
    "%load_ext autoreload\n",
    "%autoreload 2\n",
    "\n",
    "# Create the DataLoader for first principal component\n",
    "data = torch.load(\"./neural_networks/data/data_piControl.pt\")\n",
    "print(\"Data shape : {}\".format(data.shape))\n",
    "\n",
    "data = normalize_data(data)"
   ]
  },
  {
   "cell_type": "code",
   "execution_count": 58,
   "outputs": [
    {
     "name": "stdout",
     "output_type": "stream",
     "text": [
      "Covariance matrix has negative values!\n",
      "Saved data\n"
     ]
    }
   ],
   "source": [
    "eps = 0.001\n",
    "timesteps = 120000\n",
    "time = True\n",
    "# original fit\n",
    "tau = 1\n",
    "model_org = LIM_class.LIM(tau)\n",
    "model_org.fit(data.detach().cpu().numpy(), eps=eps)\n",
    "#131999 = 11000 years\n",
    "lim_integration, times_ = model_org.noise_integration(data[:, -1], timesteps=timesteps, num_comp=30)\n",
    "lim_integration = lim_integration.T\n",
    "\n",
    "lim_data = torch.zeros(lim_integration.shape[0]+1, lim_integration.shape[1])\n",
    "\n",
    "if time is True:\n",
    "    count = 0\n",
    "    for t in range(int(timesteps / 12)):\n",
    "        for m in range(12):\n",
    "            month = np.array(m+1)\n",
    "            month = np.expand_dims(month, axis=0)\n",
    "            lim = np.append(lim_integration[:, count + m], month, axis=0)\n",
    "            lim_data[:, count+m] = torch.from_numpy(lim)\n",
    "        count += 12\n",
    "    lim_integration = lim_data\n",
    "\n",
    "if time is False:\n",
    "    lim_integration = torch.from_numpy(lim_integration)\n",
    "torch.save(lim_integration, \"./neural_networks/synthetic_data/lim_integration_TIME_120k[-1]p.pt\")\n",
    "print(\"Saved data\")"
   ],
   "metadata": {
    "collapsed": false
   }
  },
  {
   "cell_type": "code",
   "execution_count": 59,
   "outputs": [
    {
     "name": "stdout",
     "output_type": "stream",
     "text": [
      "Lim interation : <class 'torch.Tensor'> torch.Size([31, 120000])\n"
     ]
    },
    {
     "ename": "ValueError",
     "evalue": "conflicting sizes for dimension 'eof': length 31 on the data but length 30 on coordinate 'eof'",
     "output_type": "error",
     "traceback": [
      "\u001B[1;31m---------------------------------------------------------------------------\u001B[0m",
      "\u001B[1;31mValueError\u001B[0m                                Traceback (most recent call last)",
      "Cell \u001B[1;32mIn [59], line 13\u001B[0m\n\u001B[0;32m     11\u001B[0m \u001B[38;5;28mprint\u001B[39m(\u001B[38;5;124m\"\u001B[39m\u001B[38;5;124mLim interation : \u001B[39m\u001B[38;5;132;01m{}\u001B[39;00m\u001B[38;5;124m \u001B[39m\u001B[38;5;132;01m{}\u001B[39;00m\u001B[38;5;124m\"\u001B[39m\u001B[38;5;241m.\u001B[39mformat(\u001B[38;5;28mtype\u001B[39m(lim_integration), lim_integration\u001B[38;5;241m.\u001B[39mshape))\n\u001B[0;32m     12\u001B[0m \u001B[38;5;66;03m# Create a DataArray from the numpy array with coordinates\u001B[39;00m\n\u001B[1;32m---> 13\u001B[0m data_xr \u001B[38;5;241m=\u001B[39m \u001B[43mxr\u001B[49m\u001B[38;5;241;43m.\u001B[39;49m\u001B[43mDataArray\u001B[49m\u001B[43m(\u001B[49m\u001B[43mlim_integration\u001B[49m\u001B[43m,\u001B[49m\u001B[43m \u001B[49m\u001B[43mcoords\u001B[49m\u001B[38;5;241;43m=\u001B[39;49m\u001B[43m[\u001B[49m\u001B[43mnp\u001B[49m\u001B[38;5;241;43m.\u001B[39;49m\u001B[43marange\u001B[49m\u001B[43m(\u001B[49m\u001B[38;5;241;43m30\u001B[39;49m\u001B[43m)\u001B[49m\u001B[43m,\u001B[49m\u001B[43m \u001B[49m\u001B[43mtime\u001B[49m\u001B[43m]\u001B[49m\u001B[43m,\u001B[49m\u001B[43m \u001B[49m\u001B[43mdims\u001B[49m\u001B[38;5;241;43m=\u001B[39;49m\u001B[43m[\u001B[49m\u001B[38;5;124;43m'\u001B[39;49m\u001B[38;5;124;43meof\u001B[39;49m\u001B[38;5;124;43m'\u001B[39;49m\u001B[43m,\u001B[49m\u001B[43m \u001B[49m\u001B[38;5;124;43m'\u001B[39;49m\u001B[38;5;124;43mtime\u001B[39;49m\u001B[38;5;124;43m'\u001B[39;49m\u001B[43m]\u001B[49m\u001B[43m)\u001B[49m\n\u001B[0;32m     15\u001B[0m \u001B[38;5;66;03m# Print the created xarray\u001B[39;00m\n\u001B[0;32m     16\u001B[0m \u001B[38;5;28mprint\u001B[39m(\u001B[38;5;28mtype\u001B[39m(data_xr))\n",
      "File \u001B[1;32m~\\AppData\\Local\\Programs\\Python\\Python310\\lib\\site-packages\\xarray\\core\\dataarray.py:417\u001B[0m, in \u001B[0;36mDataArray.__init__\u001B[1;34m(self, data, coords, dims, name, attrs, indexes, fastpath)\u001B[0m\n\u001B[0;32m    415\u001B[0m data \u001B[38;5;241m=\u001B[39m _check_data_shape(data, coords, dims)\n\u001B[0;32m    416\u001B[0m data \u001B[38;5;241m=\u001B[39m as_compatible_data(data)\n\u001B[1;32m--> 417\u001B[0m coords, dims \u001B[38;5;241m=\u001B[39m \u001B[43m_infer_coords_and_dims\u001B[49m\u001B[43m(\u001B[49m\u001B[43mdata\u001B[49m\u001B[38;5;241;43m.\u001B[39;49m\u001B[43mshape\u001B[49m\u001B[43m,\u001B[49m\u001B[43m \u001B[49m\u001B[43mcoords\u001B[49m\u001B[43m,\u001B[49m\u001B[43m \u001B[49m\u001B[43mdims\u001B[49m\u001B[43m)\u001B[49m\n\u001B[0;32m    418\u001B[0m variable \u001B[38;5;241m=\u001B[39m Variable(dims, data, attrs, fastpath\u001B[38;5;241m=\u001B[39m\u001B[38;5;28;01mTrue\u001B[39;00m)\n\u001B[0;32m    419\u001B[0m indexes, coords \u001B[38;5;241m=\u001B[39m _create_indexes_from_coords(coords)\n",
      "File \u001B[1;32m~\\AppData\\Local\\Programs\\Python\\Python310\\lib\\site-packages\\xarray\\core\\dataarray.py:163\u001B[0m, in \u001B[0;36m_infer_coords_and_dims\u001B[1;34m(shape, coords, dims)\u001B[0m\n\u001B[0;32m    161\u001B[0m \u001B[38;5;28;01mfor\u001B[39;00m d, s \u001B[38;5;129;01min\u001B[39;00m \u001B[38;5;28mzip\u001B[39m(v\u001B[38;5;241m.\u001B[39mdims, v\u001B[38;5;241m.\u001B[39mshape):\n\u001B[0;32m    162\u001B[0m     \u001B[38;5;28;01mif\u001B[39;00m s \u001B[38;5;241m!=\u001B[39m sizes[d]:\n\u001B[1;32m--> 163\u001B[0m         \u001B[38;5;28;01mraise\u001B[39;00m \u001B[38;5;167;01mValueError\u001B[39;00m(\n\u001B[0;32m    164\u001B[0m             \u001B[38;5;124mf\u001B[39m\u001B[38;5;124m\"\u001B[39m\u001B[38;5;124mconflicting sizes for dimension \u001B[39m\u001B[38;5;132;01m{\u001B[39;00md\u001B[38;5;132;01m!r}\u001B[39;00m\u001B[38;5;124m: \u001B[39m\u001B[38;5;124m\"\u001B[39m\n\u001B[0;32m    165\u001B[0m             \u001B[38;5;124mf\u001B[39m\u001B[38;5;124m\"\u001B[39m\u001B[38;5;124mlength \u001B[39m\u001B[38;5;132;01m{\u001B[39;00msizes[d]\u001B[38;5;132;01m}\u001B[39;00m\u001B[38;5;124m on the data but length \u001B[39m\u001B[38;5;132;01m{\u001B[39;00ms\u001B[38;5;132;01m}\u001B[39;00m\u001B[38;5;124m on \u001B[39m\u001B[38;5;124m\"\u001B[39m\n\u001B[0;32m    166\u001B[0m             \u001B[38;5;124mf\u001B[39m\u001B[38;5;124m\"\u001B[39m\u001B[38;5;124mcoordinate \u001B[39m\u001B[38;5;132;01m{\u001B[39;00mk\u001B[38;5;132;01m!r}\u001B[39;00m\u001B[38;5;124m\"\u001B[39m\n\u001B[0;32m    167\u001B[0m         )\n\u001B[0;32m    169\u001B[0m \u001B[38;5;28;01mif\u001B[39;00m k \u001B[38;5;129;01min\u001B[39;00m sizes \u001B[38;5;129;01mand\u001B[39;00m v\u001B[38;5;241m.\u001B[39mshape \u001B[38;5;241m!=\u001B[39m (sizes[k],):\n\u001B[0;32m    170\u001B[0m     \u001B[38;5;28;01mraise\u001B[39;00m \u001B[38;5;167;01mValueError\u001B[39;00m(\n\u001B[0;32m    171\u001B[0m         \u001B[38;5;124mf\u001B[39m\u001B[38;5;124m\"\u001B[39m\u001B[38;5;124mcoordinate \u001B[39m\u001B[38;5;132;01m{\u001B[39;00mk\u001B[38;5;132;01m!r}\u001B[39;00m\u001B[38;5;124m is a DataArray dimension, but \u001B[39m\u001B[38;5;124m\"\u001B[39m\n\u001B[0;32m    172\u001B[0m         \u001B[38;5;124mf\u001B[39m\u001B[38;5;124m\"\u001B[39m\u001B[38;5;124mit has shape \u001B[39m\u001B[38;5;132;01m{\u001B[39;00mv\u001B[38;5;241m.\u001B[39mshape\u001B[38;5;132;01m!r}\u001B[39;00m\u001B[38;5;124m rather than expected shape \u001B[39m\u001B[38;5;132;01m{\u001B[39;00msizes[k]\u001B[38;5;132;01m!r}\u001B[39;00m\u001B[38;5;124m \u001B[39m\u001B[38;5;124m\"\u001B[39m\n\u001B[0;32m    173\u001B[0m         \u001B[38;5;124m\"\u001B[39m\u001B[38;5;124mmatching the dimension size\u001B[39m\u001B[38;5;124m\"\u001B[39m\n\u001B[0;32m    174\u001B[0m     )\n",
      "\u001B[1;31mValueError\u001B[0m: conflicting sizes for dimension 'eof': length 31 on the data but length 30 on coordinate 'eof'"
     ]
    }
   ],
   "source": [
    "\n",
    "eofs = np.arange(0, 30)\n",
    "\n",
    "date_end = (timesteps / 12) + 12\n",
    "# Set the start and end dates\n",
    "start_date = cftime.DatetimeNoLeap(1, 1, 15, 12, 0, 0, 0, has_year_zero=True)\n",
    "end_date = cftime.DatetimeNoLeap(date_end, 10, 15, 12, 0, 0, 0, has_year_zero=True)\n",
    "\n",
    "# Create a range of monthly timestamps\n",
    "time = xr.cftime_range(start=start_date, end=end_date, freq='M')\n",
    "\n",
    "print(\"Lim interation : {} {}\".format(type(lim_integration), lim_integration.shape))\n",
    "# Create a DataArray from the numpy array with coordinates\n",
    "data_xr = xr.DataArray(lim_integration, coords=[np.arange(30), time], dims=['eof', 'time'])\n",
    "\n",
    "# Print the created xarray\n",
    "print(type(data_xr))\n",
    "\n",
    "#data_xr.to_netcdf('./neural_networks/synthetic_data/lim_integration_xarray_20k[-1]p.nc')\n",
    "print(\"Save data\")"
   ],
   "metadata": {
    "collapsed": false
   }
  },
  {
   "cell_type": "code",
   "execution_count": null,
   "outputs": [],
   "source": [],
   "metadata": {
    "collapsed": false
   }
  }
 ],
 "metadata": {
  "kernelspec": {
   "display_name": "Python 3",
   "language": "python",
   "name": "python3"
  },
  "language_info": {
   "codemirror_mode": {
    "name": "ipython",
    "version": 2
   },
   "file_extension": ".py",
   "mimetype": "text/x-python",
   "name": "python",
   "nbconvert_exporter": "python",
   "pygments_lexer": "ipython2",
   "version": "2.7.6"
  }
 },
 "nbformat": 4,
 "nbformat_minor": 0
}