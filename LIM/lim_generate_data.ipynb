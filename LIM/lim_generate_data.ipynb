{
 "cells": [
  {
   "cell_type": "code",
   "execution_count": 1,
   "metadata": {
    "collapsed": true
   },
   "outputs": [
    {
     "name": "stdout",
     "output_type": "stream",
     "text": [
      "Data shape : torch.Size([30, 14400])\n"
     ]
    }
   ],
   "source": [
    "import torch\n",
    "from LIM.neural_networks.models import LIM_class\n",
    "from neural_networks.utilities import *\n",
    "import cftime\n",
    "\n",
    "%load_ext autoreload\n",
    "%autoreload 2\n",
    "\n",
    "# Create the DataLoader for first principal component\n",
    "data = torch.load(\"./neural_networks/data/data_piControl.pt\")\n",
    "print(\"Data shape : {}\".format(data.shape))\n",
    "\n",
    "data = normalize_data(data)"
   ]
  },
  {
   "cell_type": "code",
   "execution_count": 2,
   "outputs": [
    {
     "name": "stdout",
     "output_type": "stream",
     "text": [
      "Covariance matrix has negative values!\n",
      "Saved data\n"
     ]
    }
   ],
   "source": [
    "eps = 0.001\n",
    "timesteps = 20000\n",
    "# original fit\n",
    "tau = 1\n",
    "model_org = LIM_class.LIM(tau)\n",
    "model_org.fit(data.detach().cpu().numpy(), eps=eps)\n",
    "#131999 = 11000 years\n",
    "lim_integration, times_ = model_org.noise_integration(data[:, -1], timesteps=20000, num_comp=30)\n",
    "lim_integration = lim_integration.T\n",
    "\n",
    "lim_integration = torch.from_numpy(lim_integration)\n",
    "torch.save(lim_integration, \"./neural_networks/synthetic_data/lim_integration_TEST_20k[-1]p.pt\")\n",
    "print(\"Saved data\")"
   ],
   "metadata": {
    "collapsed": false
   }
  },
  {
   "cell_type": "code",
   "execution_count": 33,
   "outputs": [
    {
     "name": "stdout",
     "output_type": "stream",
     "text": [
      "Lim interation : <class 'torch.Tensor'> torch.Size([30, 20001])\n",
      "<class 'xarray.core.dataarray.DataArray'>\n",
      "Save data\n"
     ]
    }
   ],
   "source": [
    "\n",
    "eofs = np.arange(0, 30)\n",
    "\n",
    "date_end = (timesteps / 12) + 2\n",
    "# Set the start and end dates\n",
    "start_date = cftime.DatetimeNoLeap(1, 12, 15, 12, 0, 0, 0, has_year_zero=True)\n",
    "end_date = cftime.DatetimeNoLeap(date_end, 9, 15, 12, 0, 0, 0, has_year_zero=True)\n",
    "\n",
    "# Create a range of monthly timestamps\n",
    "time = xr.cftime_range(start=start_date, end=end_date, freq='M')\n",
    "\n",
    "print(\"Lim interation : {} {}\".format(type(lim_integration), lim_integration.shape))\n",
    "# Create a DataArray from the numpy array with coordinates\n",
    "data_xr = xr.DataArray(lim_integration, coords=[np.arange(30), time], dims=['eof', 'time'])\n",
    "\n",
    "# Print the created xarray\n",
    "print(type(data_xr))\n",
    "\n",
    "data_xr.to_netcdf('./neural_networks/synthetic_data/lim_integration_xarray_20k[-1]p.nc')\n",
    "print(\"Save data\")"
   ],
   "metadata": {
    "collapsed": false
   }
  },
  {
   "cell_type": "code",
   "execution_count": 33,
   "outputs": [],
   "source": [],
   "metadata": {
    "collapsed": false
   }
  }
 ],
 "metadata": {
  "kernelspec": {
   "display_name": "Python 3",
   "language": "python",
   "name": "python3"
  },
  "language_info": {
   "codemirror_mode": {
    "name": "ipython",
    "version": 2
   },
   "file_extension": ".py",
   "mimetype": "text/x-python",
   "name": "python",
   "nbconvert_exporter": "python",
   "pygments_lexer": "ipython2",
   "version": "2.7.6"
  }
 },
 "nbformat": 4,
 "nbformat_minor": 0
}