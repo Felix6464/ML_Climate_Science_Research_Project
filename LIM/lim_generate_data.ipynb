{
 "cells": [
  {
   "cell_type": "code",
   "execution_count": 21,
   "metadata": {
    "collapsed": true
   },
   "outputs": [
    {
     "name": "stdout",
     "output_type": "stream",
     "text": [
      "The autoreload extension is already loaded. To reload it, use:\n",
      "  %reload_ext autoreload\n",
      "Data shape : torch.Size([30, 14400])\n"
     ]
    }
   ],
   "source": [
    "import torch\n",
    "from LIM.neural_networks import LIM_class\n",
    "from neural_networks.utilities import *\n",
    "\n",
    "%load_ext autoreload\n",
    "%autoreload 2\n",
    "\n",
    "# Create the DataLoader for first principal component\n",
    "data = torch.load(\"./neural_networks/data/data_piControl.pt\")\n",
    "print(\"Data shape : {}\".format(data.shape))\n",
    "\n",
    "# Reshape the data if necessary (assuming a 2D tensor)\n",
    "if len(data.shape) == 1:\n",
    "    data = data.unsqueeze(1)\n",
    "\n",
    "data = normalize_data(data)"
   ]
  },
  {
   "cell_type": "code",
   "execution_count": 22,
   "outputs": [
    {
     "name": "stdout",
     "output_type": "stream",
     "text": [
      "Covariance matrix has negative values!\n",
      "state_start: 30 and type : <class 'numpy.ndarray'>\n",
      "t_delta: 1\n",
      "Saved data\n"
     ]
    }
   ],
   "source": [
    "eps = 0.001\n",
    "\n",
    "# original fit\n",
    "tau = 1\n",
    "model_org = LIM_class.LIM(tau)\n",
    "model_org.fit(data.detach().cpu().numpy(), eps=eps)\n",
    "\n",
    "lim_integration, times_ = model_org.noise_integration(data[:, -1], timesteps=100000, num_comp=30)\n",
    "lim_integration = lim_integration.T\n",
    "\n",
    "lim_integration = torch.from_numpy(lim_integration)\n",
    "torch.save(lim_integration, \"./neural_networks/synthetic_data/lim_integration_100k[-1].pt\")\n",
    "print(\"Saved data\")"
   ],
   "metadata": {
    "collapsed": false
   }
  }
 ],
 "metadata": {
  "kernelspec": {
   "display_name": "Python 3",
   "language": "python",
   "name": "python3"
  },
  "language_info": {
   "codemirror_mode": {
    "name": "ipython",
    "version": 2
   },
   "file_extension": ".py",
   "mimetype": "text/x-python",
   "name": "python",
   "nbconvert_exporter": "python",
   "pygments_lexer": "ipython2",
   "version": "2.7.6"
  }
 },
 "nbformat": 4,
 "nbformat_minor": 0
}
