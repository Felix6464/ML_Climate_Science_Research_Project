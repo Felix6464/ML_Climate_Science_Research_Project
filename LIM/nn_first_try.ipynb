{
 "cells": [
  {
   "cell_type": "code",
   "execution_count": 328,
   "metadata": {
    "collapsed": true,
    "pycharm": {
     "name": "#%%\n"
    }
   },
   "outputs": [
    {
     "name": "stdout",
     "output_type": "stream",
     "text": [
      "The autoreload extension is already loaded. To reload it, use:\n",
      "  %reload_ext autoreload\n"
     ]
    }
   ],
   "source": [
    "import numpy as np\n",
    "import xarray as xr\n",
    "import matplotlib.pyplot as plt\n",
    "import utils as ut\n",
    "import LIM_class\n",
    "import torch\n",
    "import torch.nn as nn\n",
    "import torch.optim as optim\n",
    "import json\n",
    "import itertools\n",
    "from torch.utils.data import DataLoader, Dataset\n",
    "\n",
    "plt.style.use(\"../plotting.mplstyle\")\n",
    "%load_ext autoreload\n",
    "%autoreload 2"
   ]
  },
  {
   "cell_type": "code",
   "execution_count": 329,
   "outputs": [
    {
     "name": "stdout",
     "output_type": "stream",
     "text": [
      "Data shape: (500, 192, 288)\n",
      "Data : <xarray.DataArray 'ts' (time: 500, lat: 192, lon: 288)>\n",
      "[27648000 values with dtype=float32]\n",
      "Coordinates:\n",
      "  * lat      (lat) float64 -90.0 -89.06 -88.12 -87.17 ... 87.17 88.12 89.06 90.0\n",
      "  * lon      (lon) float64 -180.0 -178.8 -177.5 -176.2 ... 176.2 177.5 178.8\n",
      "  * time     (time) object 0001-01-15 12:00:00 ... 0042-08-15 12:00:00\n",
      "Attributes: (12/19)\n",
      "    cell_measures:  area: areacella\n",
      "    cell_methods:   area: time: mean\n",
      "    comment:        Surface temperature (skin for open ocean)\n",
      "    description:    Surface temperature (skin for open ocean)\n",
      "    frequency:      mon\n",
      "    id:             ts\n",
      "    ...             ...\n",
      "    time_label:     time-mean\n",
      "    time_title:     Temporal mean\n",
      "    title:          Surface Temperature\n",
      "    type:           real\n",
      "    units:          K\n",
      "    variable_id:    ts\n"
     ]
    }
   ],
   "source": [
    "data = xr.open_dataset(\"./data/ts_Amon_CESM2_piControl_r1i1p1f1.nc\")[\"ts\"]\n",
    "#data = xr.open_dataset(\"./data/zos_Amon_CESM2_piControl_r1i1p1f1.nc\")[\"zos\"]\n",
    "#data = xr.open_dataset(\"./data/ssta_1950_2021.nc\")[\"ssta\"]\n",
    "\n",
    "#14400 orginial size\n",
    "data = data[:500, :, :]\n",
    "print(\"Data shape: {}\".format(data.shape))\n",
    "print(\"Data : {}\".format(data))\n",
    "\n",
    "\n",
    "# Use Principal Component Analysis to reduce the dimensionality of the data\n",
    "\n",
    "pca_10 = ut.SpatioTemporalPCA(data, n_components=20)\n",
    "eof_10 = pca_10.eofs()\n",
    "pc_10 = pca_10.principal_components()"
   ],
   "metadata": {
    "collapsed": false,
    "pycharm": {
     "name": "#%%\n"
    }
   }
  },
  {
   "cell_type": "code",
   "execution_count": 330,
   "outputs": [
    {
     "name": "stdout",
     "output_type": "stream",
     "text": [
      "Frobenius norm: 3.6571788787841797\n",
      "WARNING: Negative eigenvalues detected.\n",
      "WARNING: The logarithmic matrix may not be stable.\n",
      "WARNING: Consider using a larger time-lag.\n",
      "WARNING: Eigenvalues greater than 1 detected.\n",
      "WARNING: Risk of nyquist mode.\n",
      "WARNING: The imaginary part of L is 2.893805503845215!\n",
      "WARNING: Eigenvalues of G are [(-0.07517050951719284+0j), (1.00174081325531+0j)]!\n",
      "WARNING: Covariance matrix has negative values!\n",
      "WARNING: Imaginary part of max eigval of Q is 3621461.75!\n"
     ]
    },
    {
     "name": "stderr",
     "output_type": "stream",
     "text": [
      "C:\\Users\\felix\\AppData\\Local\\Temp\\ipykernel_1904\\1943380292.py:14: RuntimeWarning: invalid value encountered in log\n",
      "  t_decay = [abs(-(1/np.log(eigenvalue.real))) for eigenvalue in eigenvalues]\n"
     ]
    }
   ],
   "source": [
    "# Create training and test data\n",
    "data = pca_10.principal_components()\n",
    "index_train = int(0.8 * len(data[\"time\"]))\n",
    "data_train = data[:, :index_train]\n",
    "data_test = data[:, index_train:]\n",
    "\n",
    "# Creating an example LIM object\n",
    "tau = 1\n",
    "model = LIM_class.LIM(tau)\n",
    "model.fit(data_train.data)\n",
    "#print(\"Data train : {} + shape: {} + type: {}\".format(data_train.data[:5], data_train.data.shape, type(data_train.data)))\n",
    "\n",
    "eigenvalues, _, _ = ut.matrix_decomposition(model.green_function)\n",
    "t_decay = [abs(-(1/np.log(eigenvalue.real))) for eigenvalue in eigenvalues]\n",
    "\n",
    "#print(\"Eigenvalues : min {} + max {}\".format(min(eigenvalues), max(eigenvalues)))\n",
    "#print(\"T-decay : min {} + max {}\".format(min(t_decay), max(t_decay)))"
   ],
   "metadata": {
    "collapsed": false,
    "pycharm": {
     "name": "#%%\n"
    }
   }
  },
  {
   "cell_type": "code",
   "execution_count": 331,
   "outputs": [
    {
     "name": "stdout",
     "output_type": "stream",
     "text": [
      "Testing parameter combination 1/3: (32, 0.0005, 1000)\n",
      "Epoch [1/1000], Loss: 173573568.12698412\n",
      "Epoch [101/1000], Loss: 784959.4449404762\n",
      "Epoch [201/1000], Loss: 785006.0124007936\n",
      "Epoch [301/1000], Loss: 784955.689484127\n",
      "Epoch [401/1000], Loss: 784905.3263888889\n",
      "Epoch [501/1000], Loss: 784854.9280753968\n",
      "Epoch [601/1000], Loss: 784804.621031746\n",
      "Epoch [701/1000], Loss: 784754.2053571428\n",
      "Epoch [801/1000], Loss: 784703.9737103175\n",
      "Epoch [901/1000], Loss: 784653.7038690476\n",
      "Saved model and hyperparameters to ./model_trained/fnn_model_1.pt\n",
      "\n",
      "Testing parameter combination 2/3: (32, 0.0005, 2000)\n",
      "Epoch [1/2000], Loss: 143017471.1111111\n",
      "Epoch [101/2000], Loss: 785938.8030753968\n",
      "Epoch [201/2000], Loss: 785969.5362103175\n",
      "Epoch [301/2000], Loss: 785898.2698412698\n",
      "Epoch [401/2000], Loss: 785822.6304563492\n",
      "Epoch [501/2000], Loss: 785737.4295634921\n",
      "Epoch [601/2000], Loss: 785674.5124007936\n",
      "Epoch [701/2000], Loss: 785614.4692460317\n",
      "Epoch [801/2000], Loss: 785554.4117063492\n",
      "Epoch [901/2000], Loss: 785494.4340277778\n",
      "Epoch [1001/2000], Loss: 785434.5044642857\n",
      "Epoch [1101/2000], Loss: 785374.5744047619\n",
      "Epoch [1201/2000], Loss: 785314.6909722222\n",
      "Epoch [1301/2000], Loss: 785254.566468254\n",
      "Epoch [1401/2000], Loss: 785194.6760912698\n",
      "Epoch [1501/2000], Loss: 785134.7380952381\n",
      "Epoch [1601/2000], Loss: 785074.5649801587\n",
      "Epoch [1701/2000], Loss: 785014.3253968254\n",
      "Epoch [1801/2000], Loss: 784953.9900793651\n",
      "Epoch [1901/2000], Loss: 784893.4389880953\n",
      "Saved model and hyperparameters to ./model_trained/fnn_model_2.pt\n",
      "\n",
      "Testing parameter combination 3/3: (32, 0.0005, 3000)\n",
      "Epoch [1/3000], Loss: 90149314.73015873\n",
      "Epoch [101/3000], Loss: 786503.150297619\n",
      "Epoch [201/3000], Loss: 786474.8978174604\n",
      "Epoch [301/3000], Loss: 786375.7896825396\n",
      "Epoch [401/3000], Loss: 786283.1939484127\n",
      "Epoch [501/3000], Loss: 786188.027281746\n",
      "Epoch [601/3000], Loss: 786088.154265873\n",
      "Epoch [701/3000], Loss: 785986.5282738095\n",
      "Epoch [801/3000], Loss: 785887.4935515873\n",
      "Epoch [901/3000], Loss: 785814.9494047619\n",
      "Epoch [1001/3000], Loss: 785742.1587301587\n",
      "Epoch [1101/3000], Loss: 785668.4270833334\n",
      "Epoch [1201/3000], Loss: 785592.7941468254\n",
      "Epoch [1301/3000], Loss: 785512.1909722222\n",
      "Epoch [1401/3000], Loss: 785438.7728174604\n",
      "Epoch [1501/3000], Loss: 785372.4737103175\n",
      "Epoch [1601/3000], Loss: 785306.503968254\n",
      "Epoch [1701/3000], Loss: 785240.5307539683\n",
      "Epoch [1801/3000], Loss: 785174.746031746\n",
      "Epoch [1901/3000], Loss: 785108.9255952381\n",
      "Epoch [2001/3000], Loss: 785043.253968254\n",
      "Epoch [2101/3000], Loss: 784977.693452381\n",
      "Epoch [2201/3000], Loss: 784912.2807539683\n",
      "Epoch [2301/3000], Loss: 784846.9379960317\n",
      "Epoch [2401/3000], Loss: 784781.5486111111\n",
      "Epoch [2501/3000], Loss: 784716.3323412698\n",
      "Epoch [2601/3000], Loss: 784651.1636904762\n",
      "Epoch [2701/3000], Loss: 784585.9950396825\n",
      "Epoch [2801/3000], Loss: 784520.9856150794\n",
      "Epoch [2901/3000], Loss: 784455.8898809524\n",
      "Saved model and hyperparameters to ./model_trained/fnn_model_3.pt\n",
      "\n",
      "Best model: {'hidden_size': 32, 'learning_rate': 0.0005, 'num_epochs': 3000, 'loss': 784455.8898809524, 'losses': [90149314.73015873, 786503.150297619, 786474.8978174604, 786375.7896825396, 786283.1939484127, 786188.027281746, 786088.154265873, 785986.5282738095, 785887.4935515873, 785814.9494047619, 785742.1587301587, 785668.4270833334, 785592.7941468254, 785512.1909722222, 785438.7728174604, 785372.4737103175, 785306.503968254, 785240.5307539683, 785174.746031746, 785108.9255952381, 785043.253968254, 784977.693452381, 784912.2807539683, 784846.9379960317, 784781.5486111111, 784716.3323412698, 784651.1636904762, 784585.9950396825, 784520.9856150794, 784455.8898809524]}\n"
     ]
    },
    {
     "ename": "TypeError",
     "evalue": "only integer scalar arrays can be converted to a scalar index",
     "output_type": "error",
     "traceback": [
      "\u001B[1;31m---------------------------------------------------------------------------\u001B[0m",
      "\u001B[1;31mTypeError\u001B[0m                                 Traceback (most recent call last)",
      "Cell \u001B[1;32mIn [331], line 71\u001B[0m\n\u001B[0;32m     68\u001B[0m best_model \u001B[38;5;241m=\u001B[39m hyperparameter_training_loop(dataloader)\n\u001B[0;32m     70\u001B[0m \u001B[38;5;28mprint\u001B[39m(\u001B[38;5;124mf\u001B[39m\u001B[38;5;124m\"\u001B[39m\u001B[38;5;124mBest model: \u001B[39m\u001B[38;5;132;01m{\u001B[39;00mbest_model\u001B[38;5;132;01m}\u001B[39;00m\u001B[38;5;124m\"\u001B[39m)\n\u001B[1;32m---> 71\u001B[0m \u001B[43mplot_loss_evolution\u001B[49m\u001B[43m(\u001B[49m\u001B[43mbest_model\u001B[49m\u001B[43m[\u001B[49m\u001B[38;5;124;43m\"\u001B[39;49m\u001B[38;5;124;43mlosses\u001B[39;49m\u001B[38;5;124;43m\"\u001B[39;49m\u001B[43m]\u001B[49m\u001B[43m,\u001B[49m\u001B[43m \u001B[49m\u001B[43mnp\u001B[49m\u001B[38;5;241;43m.\u001B[39;49m\u001B[43marange\u001B[49m\u001B[43m(\u001B[49m\u001B[38;5;241;43m0\u001B[39;49m\u001B[43m,\u001B[49m\u001B[43mbest_model\u001B[49m\u001B[43m[\u001B[49m\u001B[38;5;124;43m\"\u001B[39;49m\u001B[38;5;124;43mnum_epochs\u001B[39;49m\u001B[38;5;124;43m\"\u001B[39;49m\u001B[43m]\u001B[49m\u001B[43m,\u001B[49m\u001B[43m \u001B[49m\u001B[38;5;241;43m100\u001B[39;49m\u001B[43m,\u001B[49m\u001B[43m \u001B[49m\u001B[43mdtype\u001B[49m\u001B[38;5;241;43m=\u001B[39;49m\u001B[38;5;28;43mint\u001B[39;49m\u001B[43m)\u001B[49m\u001B[43m,\u001B[49m\u001B[43m \u001B[49m\u001B[43mbest_model\u001B[49m\u001B[43m[\u001B[49m\u001B[38;5;124;43m\"\u001B[39;49m\u001B[38;5;124;43mlearning_rate\u001B[39;49m\u001B[38;5;124;43m\"\u001B[39;49m\u001B[43m]\u001B[49m\u001B[43m,\u001B[49m\u001B[43m \u001B[49m\u001B[43mbest_model\u001B[49m\u001B[43m[\u001B[49m\u001B[38;5;124;43m\"\u001B[39;49m\u001B[38;5;124;43mhidden_size\u001B[39;49m\u001B[38;5;124;43m\"\u001B[39;49m\u001B[43m]\u001B[49m\u001B[43m)\u001B[49m\n",
      "File \u001B[1;32m~\\PycharmProjects\\ML_Climate_Science_Research_Project\\LIM\\FNN_model.py:74\u001B[0m, in \u001B[0;36mplot_loss_evolution\u001B[1;34m(losses, num_epochs, learning_rate, hidden_size)\u001B[0m\n\u001B[0;32m     73\u001B[0m \u001B[38;5;28;01mdef\u001B[39;00m \u001B[38;5;21mplot_loss_evolution\u001B[39m(losses, num_epochs, learning_rate, hidden_size):\n\u001B[1;32m---> 74\u001B[0m     epochs \u001B[38;5;241m=\u001B[39m \u001B[38;5;28;43mrange\u001B[39;49m\u001B[43m(\u001B[49m\u001B[38;5;241;43m1\u001B[39;49m\u001B[43m,\u001B[49m\u001B[43m \u001B[49m\u001B[43mnum_epochs\u001B[49m\u001B[43m \u001B[49m\u001B[38;5;241;43m+\u001B[39;49m\u001B[43m \u001B[49m\u001B[38;5;241;43m1\u001B[39;49m\u001B[43m)\u001B[49m\n\u001B[0;32m     75\u001B[0m     plt\u001B[38;5;241m.\u001B[39mplot(epochs, losses, label\u001B[38;5;241m=\u001B[39m\u001B[38;5;124m'\u001B[39m\u001B[38;5;124mLoss\u001B[39m\u001B[38;5;124m'\u001B[39m)\n\u001B[0;32m     76\u001B[0m     plt\u001B[38;5;241m.\u001B[39mxlabel(\u001B[38;5;124m'\u001B[39m\u001B[38;5;124mEpoch\u001B[39m\u001B[38;5;124m'\u001B[39m)\n",
      "\u001B[1;31mTypeError\u001B[0m: only integer scalar arrays can be converted to a scalar index"
     ]
    }
   ],
   "source": [
    "from FNN_model import *\n",
    "\n",
    "# Set random seed for reproducibility\n",
    "torch.manual_seed(42)\n",
    "\n",
    "def hyperparameter_training_loop(dataloader):\n",
    "\n",
    "    # Generate all possible combinations of hyperparameters\n",
    "    combinations = list(itertools.product(*hyperparams.values()))\n",
    "\n",
    "    overall_best_model = {\"hidden_size\": None,\n",
    "                         \"learning_rate\": None,\n",
    "                         \"num_epochs\": None,\n",
    "                         \"loss\": float('inf')}\n",
    "\n",
    "    # Iterate over each hyperparameter combination\n",
    "    for i, params in enumerate(combinations):\n",
    "        print(f\"Testing parameter combination {i+1}/{len(combinations)}: {params}\")\n",
    "\n",
    "        hidden_size = params[0]\n",
    "        learning_rate = params[1]\n",
    "        num_epochs = params[2]\n",
    "\n",
    "        model = FeedforwardNetwork(1, hidden_size)\n",
    "        losses = train(model, dataloader, num_epochs, learning_rate)\n",
    "\n",
    "        # Save the model and hyperparameters to a file\n",
    "        result = {\n",
    "            'hyperparameters': {\n",
    "                'hidden_size': params[0],\n",
    "                'learning_rate': params[1],\n",
    "                'num_epochs': params[2],\n",
    "                \"losses\": losses\n",
    "            }\n",
    "        }\n",
    "        if losses[-1] < overall_best_model[\"loss\"]:\n",
    "            overall_best_model[\"hidden_size\"] = params[0]\n",
    "            overall_best_model[\"learning_rate\"] = params[1]\n",
    "            overall_best_model[\"num_epochs\"] = params[2]\n",
    "            overall_best_model[\"loss\"] = losses[-1]\n",
    "            overall_best_model[\"losses\"] = losses\n",
    "\n",
    "        filename = f\"./model_trained/fnn_model_{i+1}.pt\"\n",
    "        with open(filename, 'w') as f:\n",
    "            json.dump(result, f)\n",
    "\n",
    "        print(f\"Saved model and hyperparameters to {filename}\\n\")\n",
    "\n",
    "    return overall_best_model\n",
    "\n",
    "\n",
    "batch_size = 8\n",
    "\n",
    "# Create the DataLoader for first principal component\n",
    "data = np.array(data)[0]\n",
    "#print(\"Data : {} + shape: {} + type: {}\".format(data, data.shape, type(data)))\n",
    "dataloader = create_dataloader(data, batch_size)\n",
    "\n",
    "# Hyperparameter search space\n",
    "hyperparams = {\n",
    "    'hidden_size': [32],\n",
    "    'learning_rate': [0.0005],\n",
    "    'num_epochs': [1000, 2000, 3000]\n",
    "}\n",
    "\n",
    "#Train the model\n",
    "#train(model, dataloader, num_epochs, learning_rate)\n",
    "best_model = hyperparameter_training_loop(dataloader)\n",
    "\n",
    "print(f\"Best model: {best_model}\")\n",
    "plot_loss_evolution(best_model[\"losses\"], np.arange(0,best_model[\"num_epochs\"], 100, dtype=int), best_model[\"learning_rate\"], best_model[\"hidden_size\"])\n",
    "\n",
    "\n"
   ],
   "metadata": {
    "collapsed": false,
    "pycharm": {
     "name": "#%%\n"
    }
   }
  }
 ],
 "metadata": {
  "kernelspec": {
   "display_name": "Python 3",
   "language": "python",
   "name": "python3"
  },
  "language_info": {
   "codemirror_mode": {
    "name": "ipython",
    "version": 2
   },
   "file_extension": ".py",
   "mimetype": "text/x-python",
   "name": "python",
   "nbconvert_exporter": "python",
   "pygments_lexer": "ipython2",
   "version": "2.7.6"
  }
 },
 "nbformat": 4,
 "nbformat_minor": 0
}