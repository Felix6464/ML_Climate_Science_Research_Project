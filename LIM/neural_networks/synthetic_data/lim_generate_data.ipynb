{
 "cells": [
  {
   "cell_type": "code",
   "execution_count": 3,
   "metadata": {
    "collapsed": true
   },
   "outputs": [
    {
     "name": "stdout",
     "output_type": "stream",
     "text": [
      "The autoreload extension is already loaded. To reload it, use:\n",
      "  %reload_ext autoreload\n",
      "Data shape : torch.Size([30, 14400])\n",
      "{'slice_0': {'min': -145.2110595703125, 'max': 162.90086364746094}, 'slice_1': {'min': -65.64151763916016, 'max': 69.48644256591797}, 'slice_2': {'min': -62.16381072998047, 'max': 79.00810241699219}, 'slice_3': {'min': -41.96421432495117, 'max': 61.22380065917969}, 'slice_4': {'min': -36.37443542480469, 'max': 41.21829605102539}, 'slice_5': {'min': -41.3738899230957, 'max': 50.38222885131836}, 'slice_6': {'min': -36.039527893066406, 'max': 37.63322067260742}, 'slice_7': {'min': -32.235721588134766, 'max': 37.108612060546875}, 'slice_8': {'min': -32.59757614135742, 'max': 36.5982780456543}, 'slice_9': {'min': -30.33255958557129, 'max': 37.053401947021484}, 'slice_10': {'min': -31.394615173339844, 'max': 31.727630615234375}, 'slice_11': {'min': -28.008262634277344, 'max': 29.675642013549805}, 'slice_12': {'min': -25.62923812866211, 'max': 26.046384811401367}, 'slice_13': {'min': -25.06116485595703, 'max': 26.000757217407227}, 'slice_14': {'min': -25.232492446899414, 'max': 27.924524307250977}, 'slice_15': {'min': -22.362712860107422, 'max': 27.737560272216797}, 'slice_16': {'min': -20.34008026123047, 'max': 21.02745246887207}, 'slice_17': {'min': -20.276988983154297, 'max': 21.930463790893555}, 'slice_18': {'min': -22.041858673095703, 'max': 25.747920989990234}, 'slice_19': {'min': -20.962234497070312, 'max': 21.76793098449707}, 'slice_20': {'min': -6.6682515144348145, 'max': 11.045964241027832}, 'slice_21': {'min': -5.384544849395752, 'max': 5.776473522186279}, 'slice_22': {'min': -3.9226582050323486, 'max': 4.216562271118164}, 'slice_23': {'min': -2.733609914779663, 'max': 4.762701988220215}, 'slice_24': {'min': -3.020887851715088, 'max': 3.171095132827759}, 'slice_25': {'min': -2.6492996215820312, 'max': 3.278848886489868}, 'slice_26': {'min': -2.2314746379852295, 'max': 2.3585145473480225}, 'slice_27': {'min': -2.1595091819763184, 'max': 2.350001096725464}, 'slice_28': {'min': -2.250495433807373, 'max': 2.2531819343566895}, 'slice_29': {'min': -1.9990692138671875, 'max': 2.286895990371704}}\n",
      "{'slice_0': {'min': -3.1143605709075928, 'max': 3.493757486343384}, 'slice_1': {'min': -3.5234732627868652, 'max': 3.7298660278320312}, 'slice_2': {'min': -3.7198095321655273, 'max': 4.727756023406982}, 'slice_3': {'min': -3.16849422454834, 'max': 4.6226725578308105}, 'slice_4': {'min': -3.397813320159912, 'max': 3.8502817153930664}, 'slice_5': {'min': -3.970371723175049, 'max': 4.834812641143799}, 'slice_6': {'min': -3.8492658138275146, 'max': 4.019473552703857}, 'slice_7': {'min': -3.6145830154418945, 'max': 4.16100549697876}, 'slice_8': {'min': -3.95873761177063, 'max': 4.444606304168701}, 'slice_9': {'min': -3.760232448577881, 'max': 4.593396186828613}, 'slice_10': {'min': -4.175154209136963, 'max': 4.219412803649902}, 'slice_11': {'min': -3.917834758758545, 'max': 4.151056289672852}, 'slice_12': {'min': -3.81235671043396, 'max': 3.8744096755981445}, 'slice_13': {'min': -3.7940313816070557, 'max': 3.936316967010498}, 'slice_14': {'min': -3.9778826236724854, 'max': 4.402276039123535}, 'slice_15': {'min': -3.814126968383789, 'max': 4.730854511260986}, 'slice_16': {'min': -3.6669089794158936, 'max': 3.7908356189727783}, 'slice_17': {'min': -3.931873083114624, 'max': 4.252508163452148}, 'slice_18': {'min': -4.281708240509033, 'max': 5.001645088195801}, 'slice_19': {'min': -4.20681095123291, 'max': 4.3685102462768555}, 'slice_20': {'min': -2.933582067489624, 'max': 4.859480857849121}, 'slice_21': {'min': -2.9400289058685303, 'max': 3.154026985168457}, 'slice_22': {'min': -3.4996554851531982, 'max': 3.7618660926818848}, 'slice_23': {'min': -3.024562358856201, 'max': 5.269621849060059}, 'slice_24': {'min': -3.628484010696411, 'max': 3.8089027404785156}, 'slice_25': {'min': -3.6573591232299805, 'max': 4.52645206451416}, 'slice_26': {'min': -3.591646432876587, 'max': 3.7961220741271973}, 'slice_27': {'min': -3.7688663005828857, 'max': 4.101319789886475}, 'slice_28': {'min': -4.051782608032227, 'max': 4.056619644165039}, 'slice_29': {'min': -4.028242588043213, 'max': 4.6082305908203125}}\n"
     ]
    }
   ],
   "source": [
    "import numpy as np\n",
    "import torch\n",
    "from neural_networks.models.LIM_class import *\n",
    "from neural_networks.utilities import *\n",
    "import cftime\n",
    "\n",
    "%load_ext autoreload\n",
    "%autoreload 2\n",
    "\n",
    "# Create the DataLoader for first principal component\n",
    "data = torch.load(\"./neural_networks/data/data_piControl.pt\")\n",
    "print(\"Data shape : {}\".format(data.shape))\n",
    "print(min_max_values_per_slice(data))\n",
    "data = normalize_data(data)\n",
    "print(min_max_values_per_slice(data))"
   ]
  },
  {
   "cell_type": "code",
   "execution_count": null,
   "outputs": [],
   "source": [
    "timesteps = 60000\n",
    "time = True\n",
    "# original fit\n",
    "tau = 1\n",
    "model_org = LIM(tau)\n",
    "model_org.fit(data.detach().cpu().numpy())\n",
    "#131999 = 11000 years\n",
    "lim_integration, times_ = model_org.noise_integration(data[:, -1], timesteps=timesteps, num_comp=30)\n",
    "lim_integration = lim_integration.T\n",
    "\n",
    "lim_data = torch.zeros(lim_integration.shape[0]+1, lim_integration.shape[1])\n",
    "\n",
    "if time is True:\n",
    "    count = 0\n",
    "    for t in range(int(timesteps / 12)):\n",
    "        for m in range(12):\n",
    "            month = np.array(m+1)\n",
    "            month = np.expand_dims(month, axis=0)\n",
    "            lim = np.append(lim_integration[:, count + m], month, axis=0)\n",
    "            lim_data[:, count+m] = torch.from_numpy(lim)\n",
    "        count += 12\n",
    "    lim_integration = lim_data\n",
    "\n",
    "if time is False:\n",
    "    lim_integration = torch.from_numpy(lim_integration)\n",
    "torch.save(lim_integration, \"./neural_networks/synthetic_data/lim_integration_TIME_120k2[-1]p.pt\")\n",
    "print(\"Saved data\")"
   ],
   "metadata": {
    "collapsed": false
   }
  },
  {
   "cell_type": "code",
   "execution_count": null,
   "outputs": [],
   "source": [
    "timesteps = 20000\n",
    "time = True\n",
    "# original fit\n",
    "tau = 1\n",
    "model1 = LIM(tau)\n",
    "model1.fit(data[:, :12000].detach().cpu().numpy())\n",
    "\n",
    "model2 = LIM(tau)\n",
    "model2.fit(data[:, :11000].detach().cpu().numpy())\n",
    "\n",
    "model3 = LIM(tau)\n",
    "model3.fit(data[:, :10000].detach().cpu().numpy())\n",
    "\n",
    "model4 = LIM(tau)\n",
    "model4.fit(data[:, :9000].detach().cpu().numpy())\n",
    "#131999 = 11000 years\n",
    "lim_integration1, times_ = model1.noise_integration(data[:, 12000], timesteps=timesteps, num_comp=30)\n",
    "lim_integration1 = torch.from_numpy(lim_integration1.T)\n",
    "\n",
    "lim_integration2, times_ = model2.noise_integration(data[:, 11000], timesteps=timesteps, num_comp=30)\n",
    "lim_integration2 = torch.from_numpy(lim_integration2.T)\n",
    "\n",
    "lim_integration3, times_ = model3.noise_integration(data[:, 10000], timesteps=timesteps, num_comp=30)\n",
    "lim_integration3 = torch.from_numpy(lim_integration3.T)\n",
    "\n",
    "lim_integration4, times_ = model4.noise_integration(data[:, 9000], timesteps=timesteps, num_comp=30)\n",
    "lim_integration4 = torch.from_numpy(lim_integration4.T)\n",
    "\n",
    "lim_integration = torch.cat((lim_integration1, lim_integration2, lim_integration3, lim_integration4), dim=1)\n",
    "print(lim_integration.shape)\n",
    "\n",
    "print(min_max_values_per_slice(lim_integration1))\n",
    "print(min_max_values_per_slice(lim_integration2))\n",
    "print(min_max_values_per_slice(lim_integration3))\n",
    "print(min_max_values_per_slice(lim_integration4))\n",
    "print(min_max_values_per_slice(lim_integration))\n",
    "torch.save(lim_integration, \"./neural_networks/synthetic_data/lim_integration_multipleLim.pt\")\n"
   ],
   "metadata": {
    "collapsed": false
   }
  },
  {
   "cell_type": "code",
   "execution_count": null,
   "outputs": [],
   "source": [
    "eofs = np.arange(0, 30)\n",
    "\n",
    "date_end = (timesteps / 12) + 12\n",
    "# Set the start and end dates\n",
    "start_date = cftime.DatetimeNoLeap(1, 1, 15, 12, 0, 0, 0, has_year_zero=True)\n",
    "end_date = cftime.DatetimeNoLeap(date_end, 10, 15, 12, 0, 0, 0, has_year_zero=True)\n",
    "\n",
    "# Create a range of monthly timestamps\n",
    "time = xr.cftime_range(start=start_date, end=end_date, freq='M')\n",
    "\n",
    "print(\"Lim interation : {} {}\".format(type(lim_integration), lim_integration.shape))\n",
    "# Create a DataArray from the numpy array with coordinates\n",
    "data_xr = xr.DataArray(lim_integration, coords=[np.arange(30), time], dims=['eof', 'time'])\n",
    "\n",
    "# Print the created xarray\n",
    "print(type(data_xr))\n",
    "\n",
    "#data_xr.to_netcdf('./neural_networks/synthetic_data/lim_integration_xarray_20k[-1]p.nc')\n",
    "print(\"Save data\")"
   ],
   "metadata": {
    "collapsed": false,
    "pycharm": {
     "name": "#%%\n"
    }
   }
  },
  {
   "cell_type": "code",
   "execution_count": null,
   "outputs": [],
   "source": [
    "\n"
   ],
   "metadata": {
    "collapsed": false
   }
  }
 ],
 "metadata": {
  "kernelspec": {
   "display_name": "Python 3",
   "language": "python",
   "name": "python3"
  },
  "language_info": {
   "codemirror_mode": {
    "name": "ipython",
    "version": 2
   },
   "file_extension": ".py",
   "mimetype": "text/x-python",
   "name": "python",
   "nbconvert_exporter": "python",
   "pygments_lexer": "ipython2",
   "version": "2.7.6"
  }
 },
 "nbformat": 4,
 "nbformat_minor": 0
}