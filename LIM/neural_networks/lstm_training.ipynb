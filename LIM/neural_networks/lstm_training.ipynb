{
 "cells": [
  {
   "cell_type": "code",
   "execution_count": 1,
   "metadata": {
    "collapsed": true
   },
   "outputs": [],
   "source": [
    "from models.LSTM_enc_dec import *\n",
    "import xarray as xr\n",
    "import matplotlib.pyplot as plt\n",
    "from torch.utils.data import DataLoader, Dataset\n",
    "\n",
    "#plt.style.use(\"../plotting.mplstyle\")\n",
    "%load_ext autoreload\n",
    "%autoreload 2"
   ]
  },
  {
   "cell_type": "code",
   "execution_count": 2,
   "outputs": [
    {
     "name": "stdout",
     "output_type": "stream",
     "text": [
      "<xarray.DataArray (eof: 30, time: 132001)>\n",
      "[3960030 values with dtype=float64]\n",
      "Coordinates:\n",
      "  * eof      (eof) int32 0 1 2 3 4 5 6 7 8 9 ... 20 21 22 23 24 25 26 27 28 29\n",
      "  * time     (time) object 0001-12-31 12:00:00 ... 11001-12-31 12:00:00 <class 'xarray.core.dataarray.DataArray'>\n",
      "92400 26400\n"
     ]
    }
   ],
   "source": [
    "data = xr.open_dataarray(\"./synthetic_data/lim_integration_xarray_130k[-1]q.nc\")\n",
    "\n",
    "print(data, type(data))\n",
    "\n",
    "idx_train = int(len(data['time']) * 0.7)\n",
    "idx_val = int(len(data['time']) * 0.2)\n",
    "print(idx_train, idx_val)\n",
    "\n",
    "train_data = data[: :,  :idx_train]\n",
    "val_data = data[: :, idx_train: idx_train+idx_val]\n",
    "test_data = data[: :, idx_train+idx_val: ]\n",
    "\n",
    "train_datan = train_data.data\n",
    "val_datan = val_data.data\n",
    "test_datan = test_data.data"
   ],
   "metadata": {
    "collapsed": false
   }
  },
  {
   "cell_type": "code",
   "execution_count": 3,
   "outputs": [
    {
     "name": "stdout",
     "output_type": "stream",
     "text": [
      "Train dataset:  <LSTM_enc_dec2.TimeSeriesLSTM object at 0x000001C72794F310>\n"
     ]
    }
   ],
   "source": [
    "# Convert to torch.Dataset\n",
    "input_window = 6\n",
    "output_window = 12\n",
    "batch_size = 32\n",
    "one_hot_month = False\n",
    "\n",
    "train_dataset = TimeSeriesLSTM(train_data, input_window, output_window, one_hot_month=one_hot_month)\n",
    "train_dataloader = DataLoader(\n",
    "    train_dataset, batch_size=batch_size, shuffle=True)\n",
    "val_dataset = TimeSeriesLSTM(val_data, input_window, output_window)\n",
    "val_dataloader = DataLoader(\n",
    "    val_dataset, batch_size=batch_size, shuffle=True)\n",
    "\n",
    "print(\"Train dataset: \", train_dataset)"
   ],
   "metadata": {
    "collapsed": false
   }
  },
  {
   "cell_type": "code",
   "execution_count": 4,
   "outputs": [
    {
     "data": {
      "text/plain": "<Figure size 640x480 with 1 Axes>",
      "image/png": "[encoded data removed]"
     },
     "metadata": {},
     "output_type": "display_data"
    }
   ],
   "source": [
    "# Sample datapoint\n",
    "input, target, l = train_dataset[10]\n",
    "\n",
    "pc_num = 0\n",
    "\n",
    "fig, ax = plt.subplots()\n",
    "ax.plot(l['idx_input'], input[pc_num, :], 'bo-', label='input')\n",
    "ax.plot(l['idx_target'], target[pc_num , :], 'gx', label='target')\n",
    "ax.set_xlabel(\"Index\")\n",
    "ax.set_ylabel(f\"PC {pc_num} \")\n",
    "_ = ax.legend()"
   ],
   "metadata": {
    "collapsed": false
   }
  },
  {
   "cell_type": "code",
   "execution_count": 5,
   "outputs": [
    {
     "name": "stdout",
     "output_type": "stream",
     "text": [
      "Start training\n",
      "cuda\n"
     ]
    },
    {
     "name": "stderr",
     "output_type": "stream",
     "text": [
      "  0%|          | 0/25 [05:44<?, ?it/s]\n"
     ]
    },
    {
     "ename": "RuntimeError",
     "evalue": "The expanded size of the tensor (32) must match the existing size (30) at non-singleton dimension 0.  Target sizes: [32, 30].  Tensor sizes: [30, 30]",
     "output_type": "error",
     "traceback": [
      "\u001B[1;31m---------------------------------------------------------------------------\u001B[0m",
      "\u001B[1;31mRuntimeError\u001B[0m                              Traceback (most recent call last)",
      "Cell \u001B[1;32mIn[5], line 27\u001B[0m\n\u001B[0;32m     23\u001B[0m model\u001B[38;5;241m.\u001B[39mto(device)\n\u001B[0;32m     25\u001B[0m optimizer \u001B[38;5;241m=\u001B[39m torch\u001B[38;5;241m.\u001B[39moptim\u001B[38;5;241m.\u001B[39mAdam(model\u001B[38;5;241m.\u001B[39mparameters(), lr\u001B[38;5;241m=\u001B[39mlearning_rate)\n\u001B[1;32m---> 27\u001B[0m loss, loss_test \u001B[38;5;241m=\u001B[39m \u001B[43mmodel\u001B[49m\u001B[38;5;241;43m.\u001B[39;49m\u001B[43mtrain_model\u001B[49m\u001B[43m(\u001B[49m\u001B[43mtrain_dataloader\u001B[49m\u001B[43m,\u001B[49m\n\u001B[0;32m     28\u001B[0m \u001B[43m                                    \u001B[49m\u001B[43mval_dataloader\u001B[49m\u001B[43m,\u001B[49m\u001B[43m                       \u001B[49m\u001B[43mnum_epochs\u001B[49m\u001B[43m,\u001B[49m\n\u001B[0;32m     29\u001B[0m \u001B[43m                                    \u001B[49m\u001B[43minput_window\u001B[49m\u001B[43m,\u001B[49m\n\u001B[0;32m     30\u001B[0m \u001B[43m                                    \u001B[49m\u001B[43moutput_window\u001B[49m\u001B[43m,\u001B[49m\n\u001B[0;32m     31\u001B[0m \u001B[43m                                    \u001B[49m\u001B[43mbatch_size\u001B[49m\u001B[43m,\u001B[49m\n\u001B[0;32m     32\u001B[0m \u001B[43m                                    \u001B[49m\u001B[43mtraining_prediction\u001B[49m\u001B[43m,\u001B[49m\n\u001B[0;32m     33\u001B[0m \u001B[43m                                    \u001B[49m\u001B[43mteacher_forcing_ratio\u001B[49m\u001B[43m,\u001B[49m\n\u001B[0;32m     34\u001B[0m \u001B[43m                                    \u001B[49m\u001B[43mlearning_rate\u001B[49m\u001B[43m,\u001B[49m\n\u001B[0;32m     35\u001B[0m \u001B[43m                                    \u001B[49m\u001B[43mdynamic_tf\u001B[49m\u001B[43m,\u001B[49m\n\u001B[0;32m     36\u001B[0m \u001B[43m                                    \u001B[49m\u001B[43mloss_type\u001B[49m\u001B[43m,\u001B[49m\n\u001B[0;32m     37\u001B[0m \u001B[43m                                    \u001B[49m\u001B[43moptimizer\u001B[49m\u001B[43m,\u001B[49m\u001B[43m \u001B[49m\u001B[43mnum_features\u001B[49m\u001B[43m)\u001B[49m\n\u001B[0;32m     40\u001B[0m rand_identifier \u001B[38;5;241m=\u001B[39m \u001B[38;5;28mstr\u001B[39m(np\u001B[38;5;241m.\u001B[39mrandom\u001B[38;5;241m.\u001B[39mrandint(\u001B[38;5;241m0\u001B[39m, \u001B[38;5;241m10000000\u001B[39m)) \u001B[38;5;241m+\u001B[39m \u001B[38;5;124m\"\u001B[39m\u001B[38;5;124mnew\u001B[39m\u001B[38;5;124m\"\u001B[39m\n\u001B[0;32m     41\u001B[0m \u001B[38;5;28mprint\u001B[39m(\u001B[38;5;124mf\u001B[39m\u001B[38;5;124m\"\u001B[39m\u001B[38;5;124mModel saved as model_\u001B[39m\u001B[38;5;132;01m{\u001B[39;00mrand_identifier\u001B[38;5;132;01m}\u001B[39;00m\u001B[38;5;124m.pt\u001B[39m\u001B[38;5;124m\"\u001B[39m)\n",
      "File \u001B[1;32m~\\PycharmProjects\\ML_Climate_Science_Research_Project\\LIM\\neural_networks\\LSTM_enc_dec2.py:240\u001B[0m, in \u001B[0;36mLSTM_Sequence_Prediction.train_model\u001B[1;34m(self, train_dataloader, eval_dataloader, n_epochs, input_len, target_len, batch_size, training_prediction, teacher_forcing_ratio, learning_rate, dynamic_tf, loss_type, optimizer, num_features)\u001B[0m\n\u001B[0;32m    238\u001B[0m     \u001B[38;5;28;01mfor\u001B[39;00m t \u001B[38;5;129;01min\u001B[39;00m \u001B[38;5;28mrange\u001B[39m(target_len):\n\u001B[0;32m    239\u001B[0m         decoder_output, decoder_hidden \u001B[38;5;241m=\u001B[39m \u001B[38;5;28mself\u001B[39m\u001B[38;5;241m.\u001B[39mdecoder(decoder_input, decoder_hidden)\n\u001B[1;32m--> 240\u001B[0m         \u001B[43moutputs\u001B[49m\u001B[43m[\u001B[49m\u001B[43mt\u001B[49m\u001B[43m]\u001B[49m \u001B[38;5;241m=\u001B[39m decoder_output\n\u001B[0;32m    241\u001B[0m         decoder_input \u001B[38;5;241m=\u001B[39m decoder_output\n\u001B[0;32m    243\u001B[0m \u001B[38;5;28;01mif\u001B[39;00m training_prediction \u001B[38;5;241m==\u001B[39m \u001B[38;5;124m'\u001B[39m\u001B[38;5;124mteacher_forcing\u001B[39m\u001B[38;5;124m'\u001B[39m:\n\u001B[0;32m    244\u001B[0m     \u001B[38;5;66;03m# Use teacher forcing\u001B[39;00m\n",
      "\u001B[1;31mRuntimeError\u001B[0m: The expanded size of the tensor (32) must match the existing size (30) at non-singleton dimension 0.  Target sizes: [32, 30].  Tensor sizes: [30, 30]"
     ]
    }
   ],
   "source": [
    "# Setting hyperparameters for training\n",
    "num_features = 30\n",
    "hidden_size = 64\n",
    "num_layers = 2\n",
    "learning_rate = 0.001\n",
    "num_epochs = 25\n",
    "input_window = input_window\n",
    "output_window = output_window\n",
    "batch_size = batch_size\n",
    "training_prediction = \"recursive\"\n",
    "teacher_forcing_ratio = 0.4\n",
    "dynamic_tf = True\n",
    "shuffle = True\n",
    "loss_type = \"L1\"\n",
    "wind_farm = \"britain_time_lag_corr_\"\n",
    "\n",
    "print(\"Start training\")\n",
    "\n",
    "# Specify the device to be used for training\n",
    "device = torch.device('cuda' if torch.cuda.is_available() else 'cpu')\n",
    "\n",
    "model = LSTM_Sequence_Prediction(input_size = num_features, hidden_size = hidden_size, num_layers=num_layers)\n",
    "model.to(device)\n",
    "\n",
    "optimizer = torch.optim.Adam(model.parameters(), lr=learning_rate)\n",
    "\n",
    "loss, loss_test = model.train_model(train_dataloader,\n",
    "                                    val_dataloader,                       num_epochs,\n",
    "                                    input_window,\n",
    "                                    output_window,\n",
    "                                    batch_size,\n",
    "                                    training_prediction,\n",
    "                                    teacher_forcing_ratio,\n",
    "                                    learning_rate,\n",
    "                                    dynamic_tf,\n",
    "                                    loss_type,\n",
    "                                    optimizer, num_features)\n",
    "\n",
    "\n",
    "rand_identifier = str(np.random.randint(0, 10000000)) + \"new\"\n",
    "print(f\"Model saved as model_{rand_identifier}.pt\")\n",
    "\n",
    "# Save the model and hyperparameters to a file\n",
    "parameters = {\n",
    "    'hidden_size': hidden_size,\n",
    "    \"num_layers\": num_layers,\n",
    "    'learning_rate': learning_rate,\n",
    "    'num_epochs': num_epochs,\n",
    "    \"input_window\": input_window,\n",
    "    \"output_window\": output_window,\n",
    "    \"batch_size\": batch_size,\n",
    "    \"training_prediction\": training_prediction,\n",
    "    \"teacher_forcing_ratio\": teacher_forcing_ratio,\n",
    "    \"dynamic_tf\": dynamic_tf,\n",
    "    \"loss\": loss.tolist(),\n",
    "    \"loss_test\": loss_test.tolist(),\n",
    "    \"loss_type\": loss_type, \n",
    "    \"shuffle\": shuffle,\n",
    "    \"wind_farm\": wind_farm,\n",
    "}\n",
    "\n",
    "torch.save({'hyperparameters': parameters,\n",
    "            'model_state_dict': model.state_dict(),\n",
    "            'optimizer_state_dict': optimizer.state_dict()},\n",
    "           f'./trained_models/model_{rand_identifier}.pt')"
   ],
   "metadata": {
    "collapsed": false
   }
  }
 ],
 "metadata": {
  "kernelspec": {
   "display_name": "Python 3",
   "language": "python",
   "name": "python3"
  },
  "language_info": {
   "codemirror_mode": {
    "name": "ipython",
    "version": 2
   },
   "file_extension": ".py",
   "mimetype": "text/x-python",
   "name": "python",
   "nbconvert_exporter": "python",
   "pygments_lexer": "ipython2",
   "version": "2.7.6"
  }
 },
 "nbformat": 4,
 "nbformat_minor": 0
}