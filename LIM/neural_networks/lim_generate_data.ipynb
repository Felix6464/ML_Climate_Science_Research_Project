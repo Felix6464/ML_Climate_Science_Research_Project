{
 "cells": [
  {
   "cell_type": "code",
   "execution_count": 7,
   "metadata": {
    "collapsed": true
   },
   "outputs": [
    {
     "name": "stdout",
     "output_type": "stream",
     "text": [
      "Data shape : torch.Size([30, 14400])\n"
     ]
    }
   ],
   "source": [
    "import torch\n",
    "from LIM.neural_networks import LIM_class\n",
    "\n",
    "# Create the DataLoader for first principal component\n",
    "data = torch.load(\"./data/data_piControl.pt\")\n",
    "print(\"Data shape : {}\".format(data.shape))\n",
    "\n",
    "# Reshape the data if necessary (assuming a 2D tensor)\n",
    "if len(data.shape) == 1:\n",
    "    data = data.unsqueeze(1)\n",
    "\n",
    "# Calculate the mean and standard deviation along the feature dimension\n",
    "mean = torch.mean(data, dim=1, keepdim=True)\n",
    "std = torch.std(data, dim=1, keepdim=True)\n",
    "\n",
    "# Apply normalization using the mean and standard deviation\n",
    "data = (data - mean) / std"
   ]
  },
  {
   "cell_type": "code",
   "execution_count": 8,
   "outputs": [
    {
     "name": "stdout",
     "output_type": "stream",
     "text": [
      "Covariance matrix has negative values!\n"
     ]
    },
    {
     "ename": "ValueError",
     "evalue": "could not broadcast input array from shape (30,14400) into shape (30,)",
     "output_type": "error",
     "traceback": [
      "\u001B[1;31m---------------------------------------------------------------------------\u001B[0m",
      "\u001B[1;31mValueError\u001B[0m                                Traceback (most recent call last)",
      "Cell \u001B[1;32mIn[8], line 8\u001B[0m\n\u001B[0;32m      5\u001B[0m model_org \u001B[38;5;241m=\u001B[39m LIM_class\u001B[38;5;241m.\u001B[39mLIM(tau)\n\u001B[0;32m      6\u001B[0m model_org\u001B[38;5;241m.\u001B[39mfit(data\u001B[38;5;241m.\u001B[39mdetach()\u001B[38;5;241m.\u001B[39mcpu()\u001B[38;5;241m.\u001B[39mnumpy(), eps\u001B[38;5;241m=\u001B[39meps)\n\u001B[1;32m----> 8\u001B[0m lim_integration, times_ \u001B[38;5;241m=\u001B[39m \u001B[43mmodel_org\u001B[49m\u001B[38;5;241;43m.\u001B[39;49m\u001B[43mnoise_integration\u001B[49m\u001B[43m(\u001B[49m\u001B[43mdata\u001B[49m\u001B[43m,\u001B[49m\u001B[43m \u001B[49m\u001B[43mtimesteps\u001B[49m\u001B[38;5;241;43m=\u001B[39;49m\u001B[38;5;241;43m100000\u001B[39;49m\u001B[43m,\u001B[49m\u001B[43m \u001B[49m\u001B[43mnum_comp\u001B[49m\u001B[38;5;241;43m=\u001B[39;49m\u001B[38;5;241;43m30\u001B[39;49m\u001B[43m)\u001B[49m\n\u001B[0;32m      9\u001B[0m lim_integration \u001B[38;5;241m=\u001B[39m lim_integration\u001B[38;5;241m.\u001B[39mT\n\u001B[0;32m     11\u001B[0m lim_integration \u001B[38;5;241m=\u001B[39m torch\u001B[38;5;241m.\u001B[39mfrom_numpy(lim_integration)\n",
      "File \u001B[1;32m~\\PycharmProjects\\ML_Climate_Science_Research_Project\\LIM\\neural_networks\\LIM_class.py:218\u001B[0m, in \u001B[0;36mLIM.noise_integration\u001B[1;34m(self, input_data, timesteps, out_arr, seed, num_comp)\u001B[0m\n\u001B[0;32m    216\u001B[0m state_start \u001B[38;5;241m=\u001B[39m input_data\n\u001B[0;32m    217\u001B[0m out_arr \u001B[38;5;241m=\u001B[39m np\u001B[38;5;241m.\u001B[39mzeros((timesteps \u001B[38;5;241m+\u001B[39m \u001B[38;5;241m1\u001B[39m, input_data\u001B[38;5;241m.\u001B[39mshape[\u001B[38;5;241m0\u001B[39m]))\n\u001B[1;32m--> 218\u001B[0m \u001B[43mout_arr\u001B[49m\u001B[43m[\u001B[49m\u001B[38;5;241;43m0\u001B[39;49m\u001B[43m]\u001B[49m \u001B[38;5;241m=\u001B[39m state_start\n\u001B[0;32m    220\u001B[0m t_decay \u001B[38;5;241m=\u001B[39m [\u001B[38;5;241m-\u001B[39m(\u001B[38;5;241m1\u001B[39m \u001B[38;5;241m/\u001B[39m np\u001B[38;5;241m.\u001B[39mlog(eigenvalue\u001B[38;5;241m.\u001B[39mreal)) \u001B[38;5;28;01mfor\u001B[39;00m eigenvalue \u001B[38;5;129;01min\u001B[39;00m \u001B[38;5;28mself\u001B[39m\u001B[38;5;241m.\u001B[39mg_eigenvalues]\n\u001B[0;32m    221\u001B[0m min_g_eig \u001B[38;5;241m=\u001B[39m np\u001B[38;5;241m.\u001B[39mmin(\u001B[38;5;28mself\u001B[39m\u001B[38;5;241m.\u001B[39mg_eigenvalues)\n",
      "\u001B[1;31mValueError\u001B[0m: could not broadcast input array from shape (30,14400) into shape (30,)"
     ]
    }
   ],
   "source": [
    "eps = 0.001\n",
    "\n",
    "# original fit\n",
    "tau = 1\n",
    "model_org = LIM_class.LIM(tau)\n",
    "model_org.fit(data.detach().cpu().numpy(), eps=eps)\n",
    "\n",
    "lim_integration, times_ = model_org.noise_integration(data, timesteps=100000, num_comp=30)\n",
    "lim_integration = lim_integration.T\n",
    "\n",
    "lim_integration = torch.from_numpy(lim_integration)\n",
    "torch.save(lim_integration, \"./synthetic_data/lim_integration_100k\")"
   ],
   "metadata": {
    "collapsed": false,
    "pycharm": {
     "name": "#%%\n"
    }
   }
  }
 ],
 "metadata": {
  "kernelspec": {
   "display_name": "Python 3",
   "language": "python",
   "name": "python3"
  },
  "language_info": {
   "codemirror_mode": {
    "name": "ipython",
    "version": 2
   },
   "file_extension": ".py",
   "mimetype": "text/x-python",
   "name": "python",
   "nbconvert_exporter": "python",
   "pygments_lexer": "ipython2",
   "version": "2.7.6"
  }
 },
 "nbformat": 4,
 "nbformat_minor": 0
}