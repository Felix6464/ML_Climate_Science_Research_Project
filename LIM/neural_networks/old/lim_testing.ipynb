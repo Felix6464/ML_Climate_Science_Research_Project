{
 "cells": [
  {
   "cell_type": "code",
   "execution_count": 1,
   "metadata": {
    "collapsed": true
   },
   "outputs": [
    {
     "name": "stdout",
     "output_type": "stream",
     "text": [
      "Covariance matrix has negative values!\n"
     ]
    }
   ],
   "source": [
    "from LIM_class import *\n",
    "import utilities as ut\n",
    "from LIM.neural_networks.old.LSTM_enc_dec_old import *\n",
    "from plots import *\n",
    "\n",
    "#data = torch.load(\"./data/data_piControl.pt\")\n",
    "data = torch.load(\"./synthetic_data/lim_integration_130k[-1].pt\")\n",
    "\n",
    "\n",
    "# Calculate the mean and standard deviation along the feature dimension\n",
    "data = ut.normalize_data(data)\n",
    "\n",
    "data_len = 3000\n",
    "data = data[:, :data_len]\n",
    "data = data.numpy()\n",
    "\n",
    "# original fit\n",
    "tau = 1\n",
    "model_org = LIM(tau)\n",
    "model_org.fit(data, eps=0.01)\n",
    "model_num = \"LIM\"\n",
    "\n",
    "criterion = nn.L1Loss()"
   ]
  },
  {
   "cell_type": "code",
   "execution_count": 2,
   "outputs": [
    {
     "name": "stdout",
     "output_type": "stream",
     "text": [
      "sample_size: 2949\n",
      "output_window: 1\n",
      "Loss for output window 1 : 0.18731167367130924\n",
      "sample_size: 2948\n",
      "output_window: 2\n",
      "Loss for output window 2 : 0.3054789750885279\n",
      "sample_size: 2947\n",
      "output_window: 3\n",
      "Loss for output window 3 : 0.40310369880964153\n",
      "sample_size: 2946\n",
      "output_window: 4\n",
      "Loss for output window 4 : 0.47826177143330295\n",
      "sample_size: 2945\n",
      "output_window: 5\n"
     ]
    },
    {
     "name": "stderr",
     "output_type": "stream",
     "text": [
      "\n",
      "KeyboardInterrupt\n",
      "\n"
     ]
    }
   ],
   "source": [
    "x = [1, 2, 3, 4, 5, 6, 7, 8, 9, 10, 11, 12, 13, 14, 15, 16, 17, 18, 19, 20, 21, 22, 23, 24]\n",
    "loss_list = []\n",
    "\n",
    "for output_window in x:\n",
    "\n",
    "    loss = 0\n",
    "    sample_size = len(data[1]) - output_window - 50\n",
    "    for datapoint in range(sample_size):\n",
    "\n",
    "        # Forecast mean using LIM model\n",
    "        lim_integration, times_ = model_org.noise_integration(data[:, datapoint ], timesteps=output_window, num_comp=30)\n",
    "        lim_integration = lim_integration.T[:, 1:]\n",
    "        #print(\"lim_integration: {} + type : {}\".format(lim_integration, type(lim_integration)))\n",
    "        #print(\"datapoint: {} + type : {}\".format(data[:, datapoint:datapoint+output_window], type(data[:, datapoint:datapoint+output_window])))\n",
    "\n",
    "        lim_integration = torch.from_numpy(lim_integration)\n",
    "        target = torch.from_numpy(data[:, datapoint:datapoint+output_window])\n",
    "        loss += criterion(lim_integration, target).item()\n",
    "\n",
    "\n",
    "\n",
    "    loss /= sample_size\n",
    "    loss_list.append((loss, f\"{model_num}_out={output_window}\"))\n",
    "    print(\"Loss for output window {} : {}\".format(output_window, loss))\n",
    "\n",
    "print(f\"Test loss: {loss_list}\")\n",
    "plot_loss_horizon(loss_list, model_num, \"L1\")"
   ],
   "metadata": {
    "collapsed": false,
    "pycharm": {
     "name": "#%%\n"
    }
   }
  }
 ],
 "metadata": {
  "kernelspec": {
   "display_name": "Python 3",
   "language": "python",
   "name": "python3"
  },
  "language_info": {
   "codemirror_mode": {
    "name": "ipython",
    "version": 2
   },
   "file_extension": ".py",
   "mimetype": "text/x-python",
   "name": "python",
   "nbconvert_exporter": "python",
   "pygments_lexer": "ipython2",
   "version": "2.7.6"
  }
 },
 "nbformat": 4,
 "nbformat_minor": 0
}